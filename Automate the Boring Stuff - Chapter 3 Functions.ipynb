{
 "cells": [
  {
   "cell_type": "code",
   "execution_count": null,
   "id": "b5acda49",
   "metadata": {},
   "outputs": [],
   "source": [
    "# Python provides several built-in functions like these, but you can also write your own functions. \n",
    "# A function is like a miniprogram within a program."
   ]
  },
  {
   "cell_type": "code",
   "execution_count": 1,
   "id": "769fc367",
   "metadata": {},
   "outputs": [
    {
     "name": "stdout",
     "output_type": "stream",
     "text": [
      "Howdy!\n",
      "Howdy!!!\n",
      "Hello there.\n",
      "Howdy!\n",
      "Howdy!!!\n",
      "Hello there.\n",
      "Howdy!\n",
      "Howdy!!!\n",
      "Hello there.\n"
     ]
    }
   ],
   "source": [
    "def hello(): # a def statement, which defines a function named hello()\n",
    "    print('Howdy!') # the body of the function\n",
    "    print('Howdy!!!')\n",
    "    print('Hello there.')\n",
    "\n",
    "hello()\n",
    "hello()\n",
    "hello()\n",
    "\n",
    "# A major purpose of functions is to group code that gets executed multiple times."
   ]
  },
  {
   "cell_type": "code",
   "execution_count": null,
   "id": "4ad95cca",
   "metadata": {},
   "outputs": [],
   "source": [
    "# In general, you always want to avoid duplicating code because if you ever decide to update the code—if, \n",
    "# for example, you find a bug you need to fix—you’ll have to remember to change the code everywhere you copied it.\n",
    "\n",
    "# As you get more programming experience, you’ll often find yourself deduplicating code, which means getting \n",
    "# rid of duplicated or copy-and-pasted code. Deduplication makes your programs shorter, easier to read, and easier \n",
    "# to update."
   ]
  },
  {
   "cell_type": "code",
   "execution_count": 2,
   "id": "5268ebd3",
   "metadata": {},
   "outputs": [
    {
     "name": "stdout",
     "output_type": "stream",
     "text": [
      "Hello, Alice\n",
      "Hello, Bob\n"
     ]
    }
   ],
   "source": [
    "def hello(name): # The definition of the hello() function in this program has a parameter called name\n",
    "    print('Hello, ' + name) # Parameters are variables that contain arguments. When a function is called with \n",
    "                            # arguments, the arguments are stored in the parameters\n",
    "\n",
    "hello('Alice')\n",
    "hello('Bob') # One special thing to note about parameters is that the value stored in a parameter is forgotten \n",
    "             # when the function returns."
   ]
  },
  {
   "cell_type": "code",
   "execution_count": 3,
   "id": "e2dd501e",
   "metadata": {},
   "outputs": [
    {
     "name": "stdout",
     "output_type": "stream",
     "text": [
      "Hello, Al\n"
     ]
    }
   ],
   "source": [
    "def sayHello(name): # The def statement defines the sayHello() function\n",
    "    print('Hello, ' + name) # The sayHello('Al') line calls the now-created function\n",
    "sayHello('Al') # This function call is also known as passing the string value 'Al' to the function\n",
    "\n",
    "# A value being passed to a function in a function call is an argument. The argument 'Al' is assigned to a local \n",
    "# variable named name. Variables that have arguments assigned to them are parameters."
   ]
  },
  {
   "cell_type": "code",
   "execution_count": 4,
   "id": "c8fa28ac",
   "metadata": {},
   "outputs": [
    {
     "name": "stdout",
     "output_type": "stream",
     "text": [
      "Yes\n"
     ]
    }
   ],
   "source": [
    "# Return Values and return Statements\n",
    "\n",
    "# magic8Ball.py\n",
    "\n",
    "import random\n",
    "\n",
    "def getAnswer(answerNumber): # the getAnswer() function is defined. Because the function\n",
    "    if answerNumber == 1:    # is being defined (and not called), the execution skips over the code in it.\n",
    "        return 'It is certain' \n",
    "    elif answerNumber == 2: \n",
    "        return 'It is decidedly so'\n",
    "    elif answerNumber == 3:\n",
    "        return 'Yes'\n",
    "    elif answerNumber == 4:\n",
    "        return 'Reply hazy try again'\n",
    "    elif answerNumber == 5:\n",
    "        return 'Ask again later'\n",
    "    elif answerNumber == 6:\n",
    "        return 'Concentrate and ask again'\n",
    "    elif answerNumber == 7:\n",
    "        return 'My reply is no'\n",
    "    elif answerNumber == 8:\n",
    "        return 'Outlook not so good'\n",
    "    elif answerNumber == 9:\n",
    "        return 'Very doubtful'\n",
    "\n",
    "r = random.randint(1, 9) # Next, the random.randint() function is called with two arguments: 1 and 9\n",
    "fortune = getAnswer(r)   # It evaluates to a random integer between 1 and 9 (including 1 and 9 themselves) and this value is stored in a variable named r\n",
    "print(fortune)\n",
    "\n",
    "# This last part could be shortened to: print(getAnswer(random.randint(1, 9)))\n",
    "\n",
    "# The getAnswer() function is called with r as the argument. The program execution moves to the top of the getAnswer() \n",
    "# function, and the value r is stored in a parameter named answerNumber. Then, depending on the value in answerNumber, \n",
    "# the function returns one of many possible string values."
   ]
  },
  {
   "cell_type": "code",
   "execution_count": 5,
   "id": "5956c8a1",
   "metadata": {},
   "outputs": [
    {
     "name": "stdout",
     "output_type": "stream",
     "text": [
      "Hello!\n"
     ]
    }
   ],
   "source": [
    "# None Value\n",
    "\n",
    "spam = print('Hello!')"
   ]
  },
  {
   "cell_type": "code",
   "execution_count": 6,
   "id": "b05fc9fa",
   "metadata": {},
   "outputs": [
    {
     "data": {
      "text/plain": [
       "True"
      ]
     },
     "execution_count": 6,
     "metadata": {},
     "output_type": "execute_result"
    }
   ],
   "source": [
    "None == spam"
   ]
  },
  {
   "cell_type": "code",
   "execution_count": 9,
   "id": "70117f24",
   "metadata": {},
   "outputs": [
    {
     "name": "stdout",
     "output_type": "stream",
     "text": [
      "Hello\n",
      "World\n"
     ]
    }
   ],
   "source": [
    "# Keyword Arguments and the print() Function\n",
    "\n",
    "print('Hello')\n",
    "print('World')"
   ]
  },
  {
   "cell_type": "code",
   "execution_count": 11,
   "id": "e9b99243",
   "metadata": {},
   "outputs": [
    {
     "name": "stdout",
     "output_type": "stream",
     "text": [
      "Hello World\n"
     ]
    }
   ],
   "source": [
    "# you can set the end keyword argument to change the newline character to a different string\n",
    "\n",
    "print('Hello ', end='')\n",
    "print('World')\n",
    "\n",
    "# The output is printed on a single line because there is no longer a newline printed after 'Hello'. \n",
    "# Instead, the blank string is printed. This is useful if you need to disable the newline that gets \n",
    "# added to the end of every print() function call."
   ]
  },
  {
   "cell_type": "code",
   "execution_count": 12,
   "id": "97b2a1f4",
   "metadata": {},
   "outputs": [
    {
     "name": "stdout",
     "output_type": "stream",
     "text": [
      "cats dogs mice\n"
     ]
    }
   ],
   "source": [
    "# Similarly, when you pass multiple string values to print(), the function will automatically separate them with a single space.\n",
    "\n",
    "print('cats', 'dogs', 'mice')"
   ]
  },
  {
   "cell_type": "code",
   "execution_count": 13,
   "id": "0e2f3d70",
   "metadata": {},
   "outputs": [
    {
     "name": "stdout",
     "output_type": "stream",
     "text": [
      "cats,dogs,mice\n"
     ]
    }
   ],
   "source": [
    "# you can replace the default separating string by passing the sep keyword argument a different string.\n",
    "\n",
    "print('cats', 'dogs', 'mice', sep=',')"
   ]
  },
  {
   "cell_type": "code",
   "execution_count": 14,
   "id": "f47f1424",
   "metadata": {},
   "outputs": [
    {
     "name": "stdout",
     "output_type": "stream",
     "text": [
      "cats-dogs-mice\n"
     ]
    }
   ],
   "source": [
    "print('cats', 'dogs', 'mice', sep='-')"
   ]
  },
  {
   "cell_type": "code",
   "execution_count": 16,
   "id": "c71314d4",
   "metadata": {},
   "outputs": [
    {
     "name": "stdout",
     "output_type": "stream",
     "text": [
      "a() starts\n",
      "b() starts\n",
      "c() starts\n",
      "c() returns\n",
      "b() returns\n",
      "d() starts\n",
      "d() returns\n",
      "a() returns\n"
     ]
    }
   ],
   "source": [
    "# The Call Stack - basically the order of events - bit confusing\n",
    "\n",
    "def a(): # When a() is called, it calls b(), which in turn calls c()\n",
    "    print('a() starts')\n",
    "    b()\n",
    "    d()\n",
    "    print('a() returns')\n",
    "\n",
    "def b():\n",
    "    print('b() starts')\n",
    "    c()\n",
    "    print('b() returns')\n",
    "\n",
    "def c(): # The c() function doesn’t call anything; it just displays c() starts \n",
    "    print('c() starts') # and c() returns before returning to the line in b() that called it\n",
    "    print('c() returns')\n",
    "\n",
    "def d():\n",
    "    print('d() starts')\n",
    "    print('d() returns')\n",
    "\n",
    "a()\n",
    "\n",
    "# Once execution returns to the code in b() that called c(), it returns to the line in a() that called b()\n",
    "# The execution continues to the next line in the b() function, which is a call to d(). Like the c() function, \n",
    "# the d() function also doesn’t call anything. It just displays d() starts and d() returns before returning \n",
    "# to the line in b() that called it. Since b() contains no other code, the execution returns to the line in a() \n",
    "# that called b(). The last line in a() displays a() returns before returning to the original a() call at the \n",
    "# end of the program"
   ]
  },
  {
   "cell_type": "code",
   "execution_count": null,
   "id": "eed44450",
   "metadata": {},
   "outputs": [],
   "source": [
    "# When your program calls a function, Python creates a frame object on the top of the call stack. Frame objects \n",
    "# store the line number of the original function call so that Python can remember where to return. If another \n",
    "# function call is made, Python puts another frame object on the call stack above the other one.\n",
    "\n",
    "# When a function call returns, Python removes a frame object from the top of the stack and moves the execution \n",
    "# to the line number stored in it. Note that frame objects are always added and removed from the top of the stack \n",
    "# and not from any other place\n",
    "\n",
    "# The call stack is a technical detail that you don’t strictly need to know about to write programs. It’s enough \n",
    "# to understand that function calls return to the line number they were called from. However, understanding call \n",
    "# stacks makes it easier to understand local and global scopes, described in the next section."
   ]
  },
  {
   "cell_type": "code",
   "execution_count": 17,
   "id": "45a74552",
   "metadata": {},
   "outputs": [
    {
     "ename": "NameError",
     "evalue": "name 'eggs' is not defined",
     "output_type": "error",
     "traceback": [
      "\u001b[0;31m---------------------------------------------------------------------------\u001b[0m",
      "\u001b[0;31mNameError\u001b[0m                                 Traceback (most recent call last)",
      "\u001b[0;32m/var/folders/d7/q_fznsr95_97r6lp_mx_vp640000gn/T/ipykernel_8554/1462481069.py\u001b[0m in \u001b[0;36m<module>\u001b[0;34m\u001b[0m\n\u001b[1;32m      9\u001b[0m     \u001b[0meggs\u001b[0m \u001b[0;34m=\u001b[0m \u001b[0;36m31337\u001b[0m\u001b[0;34m\u001b[0m\u001b[0;34m\u001b[0m\u001b[0m\n\u001b[1;32m     10\u001b[0m \u001b[0mspam\u001b[0m\u001b[0;34m(\u001b[0m\u001b[0;34m)\u001b[0m\u001b[0;34m\u001b[0m\u001b[0;34m\u001b[0m\u001b[0m\n\u001b[0;32m---> 11\u001b[0;31m \u001b[0mprint\u001b[0m\u001b[0;34m(\u001b[0m\u001b[0meggs\u001b[0m\u001b[0;34m)\u001b[0m\u001b[0;34m\u001b[0m\u001b[0;34m\u001b[0m\u001b[0m\n\u001b[0m",
      "\u001b[0;31mNameError\u001b[0m: name 'eggs' is not defined"
     ]
    }
   ],
   "source": [
    "# Local and Global Scope\n",
    "\n",
    "# Parameters and variables that are assigned in a called function are said to exist in that function’s local scope. \n",
    "# Variables that are assigned outside all functions are said to exist in the global scope. A variable that exists \n",
    "# in a local scope is called a local variable, while a variable that exists in the global scope is called a global \n",
    "# variable. A variable must be one or the other; it cannot be both local and global.\n",
    "\n",
    "def spam():\n",
    "    eggs = 31337\n",
    "spam()\n",
    "print(eggs)"
   ]
  },
  {
   "cell_type": "code",
   "execution_count": null,
   "id": "5f111b4c",
   "metadata": {},
   "outputs": [],
   "source": [
    "# The error happens because the eggs variable exists only in the local scope created when spam() is called. \n",
    "# Once the program execution returns from spam, that local scope is destroyed, and there is no longer a variable \n",
    "# named eggs. So when your program tries to run print(eggs), Python gives you an error saying that eggs is not \n",
    "# defined. This makes sense if you think about it; when the program execution is in the global scope, no local \n",
    "# scopes exist, so there can’t be any local variables."
   ]
  },
  {
   "cell_type": "code",
   "execution_count": 18,
   "id": "a62495dc",
   "metadata": {},
   "outputs": [
    {
     "name": "stdout",
     "output_type": "stream",
     "text": [
      "99\n"
     ]
    }
   ],
   "source": [
    "\n",
    "def spam():\n",
    "    eggs = 99\n",
    "    bacon()\n",
    "    print(eggs)\n",
    "\n",
    "def bacon():\n",
    "    ham = 101\n",
    "    eggs = 0\n",
    "\n",
    "spam()\n",
    "\n",
    "# When the program starts, the spam() function is called, and a local scope is created\n",
    "# The local variable eggs is set to 99. Then the bacon() function is called, and a second local scope is created\n",
    "# Multiple local scopes can exist at the same time. \n",
    "# In this new local scope, the local variable ham is set to 101, \n",
    "# and a local variable eggs—which is different from the one in spam()’s local scope—is also created and set to 0\n",
    "# When bacon() returns, the local scope for that call is destroyed, including its eggs variable. The program \n",
    "# execution continues in the spam() function to print the value of eggs"
   ]
  },
  {
   "cell_type": "code",
   "execution_count": 19,
   "id": "2c85c849",
   "metadata": {},
   "outputs": [
    {
     "name": "stdout",
     "output_type": "stream",
     "text": [
      "42\n",
      "42\n"
     ]
    }
   ],
   "source": [
    "def spam():\n",
    "    print(eggs)\n",
    "    \n",
    "eggs = 42\n",
    "spam()\n",
    "print(eggs)\n",
    "\n",
    "# Since there is no parameter named eggs or any code that assigns eggs a value in the spam() function, when eggs \n",
    "# is used in spam(), Python considers it a reference to the global variable eggs. This is why 42 is printed when \n",
    "# the previous program is run."
   ]
  },
  {
   "cell_type": "code",
   "execution_count": 20,
   "id": "94ba1b16",
   "metadata": {},
   "outputs": [
    {
     "name": "stdout",
     "output_type": "stream",
     "text": [
      "bacon local\n",
      "spam local\n",
      "bacon local\n",
      "global\n"
     ]
    }
   ],
   "source": [
    "# Local and Global Variables with the Same Name\n",
    "\n",
    "def spam(): # 1\n",
    "    eggs = 'spam local'\n",
    "    print(eggs)    # prints 'spam local' # 5\n",
    "\n",
    "def bacon(): # 2\n",
    "    eggs = 'bacon local' \n",
    "    print(eggs)    # prints 'bacon local' # 4\n",
    "    spam()         # ^^go to spam\n",
    "    print(eggs)    # prints 'bacon local' # 6\n",
    "\n",
    "eggs = 'global'\n",
    "bacon()            # 3 ^^go to spam\n",
    "print(eggs)        # prints 'global' # 7"
   ]
  },
  {
   "cell_type": "code",
   "execution_count": 21,
   "id": "ae078879",
   "metadata": {},
   "outputs": [
    {
     "name": "stdout",
     "output_type": "stream",
     "text": [
      "spam\n"
     ]
    }
   ],
   "source": [
    "# The Global statement\n",
    "\n",
    "def spam():\n",
    "    global eggs # the GLOBAL statement tells python not to create a local variable of the same name\n",
    "    eggs = 'spam'\n",
    "\n",
    "eggs = 'global' # so this variable is never created\n",
    "spam()\n",
    "print(eggs) # hense, this eggs can only = spam\n",
    "\n"
   ]
  },
  {
   "cell_type": "code",
   "execution_count": 22,
   "id": "49269a4a",
   "metadata": {},
   "outputs": [
    {
     "name": "stdout",
     "output_type": "stream",
     "text": [
      "spam\n"
     ]
    }
   ],
   "source": [
    "# There are four rules to tell whether a variable is in a local scope or global scope:\n",
    "\n",
    "# If a variable is being used in the global scope (that is, outside of all functions), then it's always a global variable.\n",
    "# If there is a global statement for that variable in a function, it is a global variable.\n",
    "# Otherwise, if the variable is used in an assignment statement in the function, it is a local variable.\n",
    "# But if the variable is not used in an assignment statement, it is a global variable.\n",
    "\n",
    "def spam():\n",
    "    global eggs\n",
    "    eggs = 'spam' # this is the global\n",
    "\n",
    "def bacon():\n",
    "    eggs = 'bacon' # this is a local \n",
    "                   # Here, eggs is a local variable because there’s an assignment statement for it in that function\n",
    "\n",
    "def ham():\n",
    "    print(eggs) # this is the global\n",
    "                # Here, eggs is the global variable because there is no assignment statement or global statement for it in that function\n",
    "\n",
    "eggs = 42 # this is the global\n",
    "spam()\n",
    "print(eggs)"
   ]
  },
  {
   "cell_type": "code",
   "execution_count": 24,
   "id": "b624310b",
   "metadata": {},
   "outputs": [
    {
     "ename": "UnboundLocalError",
     "evalue": "local variable 'eggs' referenced before assignment",
     "output_type": "error",
     "traceback": [
      "\u001b[0;31m---------------------------------------------------------------------------\u001b[0m",
      "\u001b[0;31mUnboundLocalError\u001b[0m                         Traceback (most recent call last)",
      "\u001b[0;32m/var/folders/d7/q_fznsr95_97r6lp_mx_vp640000gn/T/ipykernel_8554/1170355730.py\u001b[0m in \u001b[0;36m<module>\u001b[0;34m\u001b[0m\n\u001b[1;32m      4\u001b[0m \u001b[0;34m\u001b[0m\u001b[0m\n\u001b[1;32m      5\u001b[0m \u001b[0meggs\u001b[0m \u001b[0;34m=\u001b[0m \u001b[0;34m'global'\u001b[0m\u001b[0;34m\u001b[0m\u001b[0;34m\u001b[0m\u001b[0m\n\u001b[0;32m----> 6\u001b[0;31m \u001b[0mspam\u001b[0m\u001b[0;34m(\u001b[0m\u001b[0;34m)\u001b[0m\u001b[0;34m\u001b[0m\u001b[0;34m\u001b[0m\u001b[0m\n\u001b[0m",
      "\u001b[0;32m/var/folders/d7/q_fznsr95_97r6lp_mx_vp640000gn/T/ipykernel_8554/1170355730.py\u001b[0m in \u001b[0;36mspam\u001b[0;34m()\u001b[0m\n\u001b[1;32m      1\u001b[0m \u001b[0;32mdef\u001b[0m \u001b[0mspam\u001b[0m\u001b[0;34m(\u001b[0m\u001b[0;34m)\u001b[0m\u001b[0;34m:\u001b[0m\u001b[0;34m\u001b[0m\u001b[0;34m\u001b[0m\u001b[0m\n\u001b[0;32m----> 2\u001b[0;31m     \u001b[0mprint\u001b[0m\u001b[0;34m(\u001b[0m\u001b[0meggs\u001b[0m\u001b[0;34m)\u001b[0m \u001b[0;31m# ERROR!\u001b[0m\u001b[0;34m\u001b[0m\u001b[0;34m\u001b[0m\u001b[0m\n\u001b[0m\u001b[1;32m      3\u001b[0m     \u001b[0meggs\u001b[0m \u001b[0;34m=\u001b[0m \u001b[0;34m'spam local'\u001b[0m\u001b[0;34m\u001b[0m\u001b[0;34m\u001b[0m\u001b[0m\n\u001b[1;32m      4\u001b[0m \u001b[0;34m\u001b[0m\u001b[0m\n\u001b[1;32m      5\u001b[0m \u001b[0meggs\u001b[0m \u001b[0;34m=\u001b[0m \u001b[0;34m'global'\u001b[0m\u001b[0;34m\u001b[0m\u001b[0;34m\u001b[0m\u001b[0m\n",
      "\u001b[0;31mUnboundLocalError\u001b[0m: local variable 'eggs' referenced before assignment"
     ]
    }
   ],
   "source": [
    "# If you try to use a local variable in a function before you assign a value to it, as in the following program, \n",
    "# Python will give you an error.\n",
    "\n",
    "def spam():\n",
    "    print(eggs) # ERROR!\n",
    "    eggs = 'spam local'\n",
    "\n",
    "eggs = 'global'\n",
    "spam()\n",
    "\n",
    "# This error happens because Python sees that there is an assignment statement for eggs in the spam() function\n",
    "# and, therefore, considers eggs to be local. But because print(eggs) is executed before eggs is assigned anything, \n",
    "# the local variable eggs doesn’t exist. Python will not fall back to using the global eggs variable"
   ]
  },
  {
   "cell_type": "code",
   "execution_count": null,
   "id": "0d733670",
   "metadata": {},
   "outputs": [],
   "source": []
  },
  {
   "cell_type": "code",
   "execution_count": 25,
   "id": "2a3385ba",
   "metadata": {},
   "outputs": [
    {
     "name": "stdout",
     "output_type": "stream",
     "text": [
      "21.0\n",
      "3.5\n"
     ]
    },
    {
     "ename": "ZeroDivisionError",
     "evalue": "division by zero",
     "output_type": "error",
     "traceback": [
      "\u001b[0;31m---------------------------------------------------------------------------\u001b[0m",
      "\u001b[0;31mZeroDivisionError\u001b[0m                         Traceback (most recent call last)",
      "\u001b[0;32m/var/folders/d7/q_fznsr95_97r6lp_mx_vp640000gn/T/ipykernel_8554/1728096964.py\u001b[0m in \u001b[0;36m<module>\u001b[0;34m\u001b[0m\n\u001b[1;32m      6\u001b[0m \u001b[0mprint\u001b[0m\u001b[0;34m(\u001b[0m\u001b[0mspam\u001b[0m\u001b[0;34m(\u001b[0m\u001b[0;36m2\u001b[0m\u001b[0;34m)\u001b[0m\u001b[0;34m)\u001b[0m\u001b[0;34m\u001b[0m\u001b[0;34m\u001b[0m\u001b[0m\n\u001b[1;32m      7\u001b[0m \u001b[0mprint\u001b[0m\u001b[0;34m(\u001b[0m\u001b[0mspam\u001b[0m\u001b[0;34m(\u001b[0m\u001b[0;36m12\u001b[0m\u001b[0;34m)\u001b[0m\u001b[0;34m)\u001b[0m\u001b[0;34m\u001b[0m\u001b[0;34m\u001b[0m\u001b[0m\n\u001b[0;32m----> 8\u001b[0;31m \u001b[0mprint\u001b[0m\u001b[0;34m(\u001b[0m\u001b[0mspam\u001b[0m\u001b[0;34m(\u001b[0m\u001b[0;36m0\u001b[0m\u001b[0;34m)\u001b[0m\u001b[0;34m)\u001b[0m\u001b[0;34m\u001b[0m\u001b[0;34m\u001b[0m\u001b[0m\n\u001b[0m\u001b[1;32m      9\u001b[0m \u001b[0mprint\u001b[0m\u001b[0;34m(\u001b[0m\u001b[0mspam\u001b[0m\u001b[0;34m(\u001b[0m\u001b[0;36m1\u001b[0m\u001b[0;34m)\u001b[0m\u001b[0;34m)\u001b[0m\u001b[0;34m\u001b[0m\u001b[0;34m\u001b[0m\u001b[0m\n",
      "\u001b[0;32m/var/folders/d7/q_fznsr95_97r6lp_mx_vp640000gn/T/ipykernel_8554/1728096964.py\u001b[0m in \u001b[0;36mspam\u001b[0;34m(divideBy)\u001b[0m\n\u001b[1;32m      2\u001b[0m \u001b[0;34m\u001b[0m\u001b[0m\n\u001b[1;32m      3\u001b[0m \u001b[0;32mdef\u001b[0m \u001b[0mspam\u001b[0m\u001b[0;34m(\u001b[0m\u001b[0mdivideBy\u001b[0m\u001b[0;34m)\u001b[0m\u001b[0;34m:\u001b[0m\u001b[0;34m\u001b[0m\u001b[0;34m\u001b[0m\u001b[0m\n\u001b[0;32m----> 4\u001b[0;31m     \u001b[0;32mreturn\u001b[0m \u001b[0;36m42\u001b[0m \u001b[0;34m/\u001b[0m \u001b[0mdivideBy\u001b[0m\u001b[0;34m\u001b[0m\u001b[0;34m\u001b[0m\u001b[0m\n\u001b[0m\u001b[1;32m      5\u001b[0m \u001b[0;34m\u001b[0m\u001b[0m\n\u001b[1;32m      6\u001b[0m \u001b[0mprint\u001b[0m\u001b[0;34m(\u001b[0m\u001b[0mspam\u001b[0m\u001b[0;34m(\u001b[0m\u001b[0;36m2\u001b[0m\u001b[0;34m)\u001b[0m\u001b[0;34m)\u001b[0m\u001b[0;34m\u001b[0m\u001b[0;34m\u001b[0m\u001b[0m\n",
      "\u001b[0;31mZeroDivisionError\u001b[0m: division by zero"
     ]
    }
   ],
   "source": [
    "# Exception (error) handling\n",
    "\n",
    "def spam(divideBy): # defining a function called spam, given it a parameter (divideBy)\n",
    "    return 42 / divideBy # this return statement is causing the error\n",
    "\n",
    "print(spam(2))\n",
    "print(spam(12))\n",
    "print(spam(0)) # you cannot divide by zero\n",
    "print(spam(1))"
   ]
  },
  {
   "cell_type": "code",
   "execution_count": 26,
   "id": "b221f8b7",
   "metadata": {},
   "outputs": [
    {
     "name": "stdout",
     "output_type": "stream",
     "text": [
      "21.0\n",
      "3.5\n",
      "Error: Invalid argument.\n",
      "None\n",
      "42.0\n"
     ]
    }
   ],
   "source": [
    "# Errors can be handled with try and except statements. \n",
    "\n",
    "# When code in a try clause causes an error, the program execution immediately moves to the code in the except clause. \n",
    "# After running that code, the execution continues as normal.\n",
    "\n",
    "def spam(divideBy):\n",
    "    try: # The code that could potentially have an error is put in a try clause. \n",
    "        return 42 / divideBy\n",
    "    except ZeroDivisionError: # The program execution moves to the start of a following except clause if an error happens.\n",
    "        print('Error: Invalid argument.')\n",
    "\n",
    "print(spam(2))\n",
    "print(spam(12))\n",
    "print(spam(0))\n",
    "print(spam(1))"
   ]
  },
  {
   "cell_type": "code",
   "execution_count": 27,
   "id": "c88e861b",
   "metadata": {},
   "outputs": [
    {
     "name": "stdout",
     "output_type": "stream",
     "text": [
      "21.0\n",
      "3.5\n",
      "Error: Invalid argument.\n"
     ]
    }
   ],
   "source": [
    "# ALTERNATIVE: Consider the following program, which instead has the spam() calls in the try block:\n",
    "\n",
    "def spam(divideBy):\n",
    "    return 42 / divideBy\n",
    "\n",
    "try:\n",
    "    print(spam(2))\n",
    "    print(spam(12))\n",
    "    print(spam(0))\n",
    "    print(spam(1))\n",
    "except ZeroDivisionError:\n",
    "    print('Error: Invalid argument.')\n",
    "    \n",
    "# The reason print(spam(1)) is never executed is because once the execution jumps to the code in the except clause, \n",
    "# it does not return to the try clause. Instead, it just continues moving down the program as normal."
   ]
  },
  {
   "cell_type": "code",
   "execution_count": 31,
   "id": "beba1ddf",
   "metadata": {},
   "outputs": [
    {
     "name": "stdout",
     "output_type": "stream",
     "text": [
      "********\n",
      " ********\n",
      "  ********\n",
      "   ********\n",
      "    ********\n",
      "     ********\n",
      "      ********\n",
      "       ********\n",
      "        ********\n",
      "         ********\n",
      "          ********\n",
      "           ********\n",
      "            ********\n",
      "             ********\n",
      "              ********\n",
      "               ********\n",
      "                ********\n",
      "                 ********\n",
      "                  ********\n",
      "                   ********\n",
      "                    ********\n",
      "                   ********\n",
      "                  ********\n",
      "                 ********\n",
      "                ********\n",
      "               ********\n",
      "              ********\n",
      "             ********\n",
      "            ********\n",
      "           ********\n"
     ]
    },
    {
     "name": "stderr",
     "output_type": "stream",
     "text": [
      "ERROR:root:Internal Python error in the inspect module.\n",
      "Below is the traceback from this internal error.\n",
      "\n"
     ]
    },
    {
     "name": "stdout",
     "output_type": "stream",
     "text": [
      "          ********\n",
      "Traceback (most recent call last):\n",
      "  File \"/var/folders/d7/q_fznsr95_97r6lp_mx_vp640000gn/T/ipykernel_8554/2057943224.py\", line 11, in <module>\n",
      "    time.sleep(0.2) # Pause for 1/10 of a second.\n",
      "KeyboardInterrupt\n",
      "\n",
      "During handling of the above exception, another exception occurred:\n",
      "\n",
      "Traceback (most recent call last):\n",
      "  File \"/Users/davidrichardson/opt/anaconda3/lib/python3.9/site-packages/IPython/core/interactiveshell.py\", line 3444, in run_code\n",
      "    exec(code_obj, self.user_global_ns, self.user_ns)\n",
      "  File \"/var/folders/d7/q_fznsr95_97r6lp_mx_vp640000gn/T/ipykernel_8554/2057943224.py\", line 27, in <module>\n",
      "    sys.exit()\n",
      "SystemExit\n",
      "\n",
      "During handling of the above exception, another exception occurred:\n",
      "\n",
      "Traceback (most recent call last):\n",
      "  File \"/Users/davidrichardson/opt/anaconda3/lib/python3.9/site-packages/IPython/core/ultratb.py\", line 1101, in get_records\n",
      "    return _fixed_getinnerframes(etb, number_of_lines_of_context, tb_offset)\n",
      "  File \"/Users/davidrichardson/opt/anaconda3/lib/python3.9/site-packages/IPython/core/ultratb.py\", line 248, in wrapped\n",
      "    return f(*args, **kwargs)\n",
      "  File \"/Users/davidrichardson/opt/anaconda3/lib/python3.9/site-packages/IPython/core/ultratb.py\", line 281, in _fixed_getinnerframes\n",
      "    records = fix_frame_records_filenames(inspect.getinnerframes(etb, context))\n",
      "  File \"/Users/davidrichardson/opt/anaconda3/lib/python3.9/inspect.py\", line 1541, in getinnerframes\n",
      "    frameinfo = (tb.tb_frame,) + getframeinfo(tb, context)\n",
      "AttributeError: 'tuple' object has no attribute 'tb_frame'\n"
     ]
    },
    {
     "ename": "TypeError",
     "evalue": "object of type 'NoneType' has no len()",
     "output_type": "error",
     "traceback": [
      "\u001b[0;31m---------------------------------------------------------------------------\u001b[0m",
      "\u001b[0;31mKeyboardInterrupt\u001b[0m                         Traceback (most recent call last)",
      "\u001b[0;32m/var/folders/d7/q_fznsr95_97r6lp_mx_vp640000gn/T/ipykernel_8554/2057943224.py\u001b[0m in \u001b[0;36m<module>\u001b[0;34m\u001b[0m\n\u001b[1;32m     10\u001b[0m         \u001b[0mprint\u001b[0m\u001b[0;34m(\u001b[0m\u001b[0;34m'********'\u001b[0m\u001b[0;34m)\u001b[0m\u001b[0;34m\u001b[0m\u001b[0;34m\u001b[0m\u001b[0m\n\u001b[0;32m---> 11\u001b[0;31m         \u001b[0mtime\u001b[0m\u001b[0;34m.\u001b[0m\u001b[0msleep\u001b[0m\u001b[0;34m(\u001b[0m\u001b[0;36m0.2\u001b[0m\u001b[0;34m)\u001b[0m \u001b[0;31m# Pause for 1/10 of a second.\u001b[0m\u001b[0;34m\u001b[0m\u001b[0;34m\u001b[0m\u001b[0m\n\u001b[0m\u001b[1;32m     12\u001b[0m \u001b[0;34m\u001b[0m\u001b[0m\n",
      "\u001b[0;31mKeyboardInterrupt\u001b[0m: ",
      "\nDuring handling of the above exception, another exception occurred:\n",
      "\u001b[0;31mSystemExit\u001b[0m                                Traceback (most recent call last)",
      "    \u001b[0;31m[... skipping hidden 1 frame]\u001b[0m\n",
      "\u001b[0;32m/var/folders/d7/q_fznsr95_97r6lp_mx_vp640000gn/T/ipykernel_8554/2057943224.py\u001b[0m in \u001b[0;36m<module>\u001b[0;34m\u001b[0m\n\u001b[1;32m     26\u001b[0m \u001b[0;32mexcept\u001b[0m \u001b[0mKeyboardInterrupt\u001b[0m\u001b[0;34m:\u001b[0m\u001b[0;34m\u001b[0m\u001b[0;34m\u001b[0m\u001b[0m\n\u001b[0;32m---> 27\u001b[0;31m     \u001b[0msys\u001b[0m\u001b[0;34m.\u001b[0m\u001b[0mexit\u001b[0m\u001b[0;34m(\u001b[0m\u001b[0;34m)\u001b[0m\u001b[0;34m\u001b[0m\u001b[0;34m\u001b[0m\u001b[0m\n\u001b[0m",
      "\u001b[0;31mSystemExit\u001b[0m: ",
      "\nDuring handling of the above exception, another exception occurred:\n",
      "\u001b[0;31mTypeError\u001b[0m                                 Traceback (most recent call last)",
      "    \u001b[0;31m[... skipping hidden 1 frame]\u001b[0m\n",
      "\u001b[0;32m~/opt/anaconda3/lib/python3.9/site-packages/IPython/core/interactiveshell.py\u001b[0m in \u001b[0;36mshowtraceback\u001b[0;34m(self, exc_tuple, filename, tb_offset, exception_only, running_compiled_code)\u001b[0m\n\u001b[1;32m   2055\u001b[0m                     stb = ['An exception has occurred, use %tb to see '\n\u001b[1;32m   2056\u001b[0m                            'the full traceback.\\n']\n\u001b[0;32m-> 2057\u001b[0;31m                     stb.extend(self.InteractiveTB.get_exception_only(etype,\n\u001b[0m\u001b[1;32m   2058\u001b[0m                                                                      value))\n\u001b[1;32m   2059\u001b[0m                 \u001b[0;32melse\u001b[0m\u001b[0;34m:\u001b[0m\u001b[0;34m\u001b[0m\u001b[0;34m\u001b[0m\u001b[0m\n",
      "\u001b[0;32m~/opt/anaconda3/lib/python3.9/site-packages/IPython/core/ultratb.py\u001b[0m in \u001b[0;36mget_exception_only\u001b[0;34m(self, etype, value)\u001b[0m\n\u001b[1;32m    752\u001b[0m         \u001b[0mvalue\u001b[0m \u001b[0;34m:\u001b[0m \u001b[0mexception\u001b[0m \u001b[0mvalue\u001b[0m\u001b[0;34m\u001b[0m\u001b[0;34m\u001b[0m\u001b[0m\n\u001b[1;32m    753\u001b[0m         \"\"\"\n\u001b[0;32m--> 754\u001b[0;31m         \u001b[0;32mreturn\u001b[0m \u001b[0mListTB\u001b[0m\u001b[0;34m.\u001b[0m\u001b[0mstructured_traceback\u001b[0m\u001b[0;34m(\u001b[0m\u001b[0mself\u001b[0m\u001b[0;34m,\u001b[0m \u001b[0metype\u001b[0m\u001b[0;34m,\u001b[0m \u001b[0mvalue\u001b[0m\u001b[0;34m)\u001b[0m\u001b[0;34m\u001b[0m\u001b[0;34m\u001b[0m\u001b[0m\n\u001b[0m\u001b[1;32m    755\u001b[0m \u001b[0;34m\u001b[0m\u001b[0m\n\u001b[1;32m    756\u001b[0m     \u001b[0;32mdef\u001b[0m \u001b[0mshow_exception_only\u001b[0m\u001b[0;34m(\u001b[0m\u001b[0mself\u001b[0m\u001b[0;34m,\u001b[0m \u001b[0metype\u001b[0m\u001b[0;34m,\u001b[0m \u001b[0mevalue\u001b[0m\u001b[0;34m)\u001b[0m\u001b[0;34m:\u001b[0m\u001b[0;34m\u001b[0m\u001b[0;34m\u001b[0m\u001b[0m\n",
      "\u001b[0;32m~/opt/anaconda3/lib/python3.9/site-packages/IPython/core/ultratb.py\u001b[0m in \u001b[0;36mstructured_traceback\u001b[0;34m(self, etype, evalue, etb, tb_offset, context)\u001b[0m\n\u001b[1;32m    627\u001b[0m             \u001b[0mchained_exceptions_tb_offset\u001b[0m \u001b[0;34m=\u001b[0m \u001b[0;36m0\u001b[0m\u001b[0;34m\u001b[0m\u001b[0;34m\u001b[0m\u001b[0m\n\u001b[1;32m    628\u001b[0m             out_list = (\n\u001b[0;32m--> 629\u001b[0;31m                 self.structured_traceback(\n\u001b[0m\u001b[1;32m    630\u001b[0m                     \u001b[0metype\u001b[0m\u001b[0;34m,\u001b[0m \u001b[0mevalue\u001b[0m\u001b[0;34m,\u001b[0m \u001b[0;34m(\u001b[0m\u001b[0metb\u001b[0m\u001b[0;34m,\u001b[0m \u001b[0mchained_exc_ids\u001b[0m\u001b[0;34m)\u001b[0m\u001b[0;34m,\u001b[0m\u001b[0;34m\u001b[0m\u001b[0;34m\u001b[0m\u001b[0m\n\u001b[1;32m    631\u001b[0m                     chained_exceptions_tb_offset, context)\n",
      "\u001b[0;32m~/opt/anaconda3/lib/python3.9/site-packages/IPython/core/ultratb.py\u001b[0m in \u001b[0;36mstructured_traceback\u001b[0;34m(self, etype, value, tb, tb_offset, number_of_lines_of_context)\u001b[0m\n\u001b[1;32m   1365\u001b[0m         \u001b[0;32melse\u001b[0m\u001b[0;34m:\u001b[0m\u001b[0;34m\u001b[0m\u001b[0;34m\u001b[0m\u001b[0m\n\u001b[1;32m   1366\u001b[0m             \u001b[0mself\u001b[0m\u001b[0;34m.\u001b[0m\u001b[0mtb\u001b[0m \u001b[0;34m=\u001b[0m \u001b[0mtb\u001b[0m\u001b[0;34m\u001b[0m\u001b[0;34m\u001b[0m\u001b[0m\n\u001b[0;32m-> 1367\u001b[0;31m         return FormattedTB.structured_traceback(\n\u001b[0m\u001b[1;32m   1368\u001b[0m             self, etype, value, tb, tb_offset, number_of_lines_of_context)\n\u001b[1;32m   1369\u001b[0m \u001b[0;34m\u001b[0m\u001b[0m\n",
      "\u001b[0;32m~/opt/anaconda3/lib/python3.9/site-packages/IPython/core/ultratb.py\u001b[0m in \u001b[0;36mstructured_traceback\u001b[0;34m(self, etype, value, tb, tb_offset, number_of_lines_of_context)\u001b[0m\n\u001b[1;32m   1265\u001b[0m         \u001b[0;32mif\u001b[0m \u001b[0mmode\u001b[0m \u001b[0;32min\u001b[0m \u001b[0mself\u001b[0m\u001b[0;34m.\u001b[0m\u001b[0mverbose_modes\u001b[0m\u001b[0;34m:\u001b[0m\u001b[0;34m\u001b[0m\u001b[0;34m\u001b[0m\u001b[0m\n\u001b[1;32m   1266\u001b[0m             \u001b[0;31m# Verbose modes need a full traceback\u001b[0m\u001b[0;34m\u001b[0m\u001b[0;34m\u001b[0m\u001b[0m\n\u001b[0;32m-> 1267\u001b[0;31m             return VerboseTB.structured_traceback(\n\u001b[0m\u001b[1;32m   1268\u001b[0m                 \u001b[0mself\u001b[0m\u001b[0;34m,\u001b[0m \u001b[0metype\u001b[0m\u001b[0;34m,\u001b[0m \u001b[0mvalue\u001b[0m\u001b[0;34m,\u001b[0m \u001b[0mtb\u001b[0m\u001b[0;34m,\u001b[0m \u001b[0mtb_offset\u001b[0m\u001b[0;34m,\u001b[0m \u001b[0mnumber_of_lines_of_context\u001b[0m\u001b[0;34m\u001b[0m\u001b[0;34m\u001b[0m\u001b[0m\n\u001b[1;32m   1269\u001b[0m             )\n",
      "\u001b[0;32m~/opt/anaconda3/lib/python3.9/site-packages/IPython/core/ultratb.py\u001b[0m in \u001b[0;36mstructured_traceback\u001b[0;34m(self, etype, evalue, etb, tb_offset, number_of_lines_of_context)\u001b[0m\n\u001b[1;32m   1122\u001b[0m         \u001b[0;34m\"\"\"Return a nice text document describing the traceback.\"\"\"\u001b[0m\u001b[0;34m\u001b[0m\u001b[0;34m\u001b[0m\u001b[0m\n\u001b[1;32m   1123\u001b[0m \u001b[0;34m\u001b[0m\u001b[0m\n\u001b[0;32m-> 1124\u001b[0;31m         formatted_exception = self.format_exception_as_a_whole(etype, evalue, etb, number_of_lines_of_context,\n\u001b[0m\u001b[1;32m   1125\u001b[0m                                                                tb_offset)\n\u001b[1;32m   1126\u001b[0m \u001b[0;34m\u001b[0m\u001b[0m\n",
      "\u001b[0;32m~/opt/anaconda3/lib/python3.9/site-packages/IPython/core/ultratb.py\u001b[0m in \u001b[0;36mformat_exception_as_a_whole\u001b[0;34m(self, etype, evalue, etb, number_of_lines_of_context, tb_offset)\u001b[0m\n\u001b[1;32m   1080\u001b[0m \u001b[0;34m\u001b[0m\u001b[0m\n\u001b[1;32m   1081\u001b[0m \u001b[0;34m\u001b[0m\u001b[0m\n\u001b[0;32m-> 1082\u001b[0;31m         \u001b[0mlast_unique\u001b[0m\u001b[0;34m,\u001b[0m \u001b[0mrecursion_repeat\u001b[0m \u001b[0;34m=\u001b[0m \u001b[0mfind_recursion\u001b[0m\u001b[0;34m(\u001b[0m\u001b[0morig_etype\u001b[0m\u001b[0;34m,\u001b[0m \u001b[0mevalue\u001b[0m\u001b[0;34m,\u001b[0m \u001b[0mrecords\u001b[0m\u001b[0;34m)\u001b[0m\u001b[0;34m\u001b[0m\u001b[0;34m\u001b[0m\u001b[0m\n\u001b[0m\u001b[1;32m   1083\u001b[0m \u001b[0;34m\u001b[0m\u001b[0m\n\u001b[1;32m   1084\u001b[0m         \u001b[0mframes\u001b[0m \u001b[0;34m=\u001b[0m \u001b[0mself\u001b[0m\u001b[0;34m.\u001b[0m\u001b[0mformat_records\u001b[0m\u001b[0;34m(\u001b[0m\u001b[0mrecords\u001b[0m\u001b[0;34m,\u001b[0m \u001b[0mlast_unique\u001b[0m\u001b[0;34m,\u001b[0m \u001b[0mrecursion_repeat\u001b[0m\u001b[0;34m)\u001b[0m\u001b[0;34m\u001b[0m\u001b[0;34m\u001b[0m\u001b[0m\n",
      "\u001b[0;32m~/opt/anaconda3/lib/python3.9/site-packages/IPython/core/ultratb.py\u001b[0m in \u001b[0;36mfind_recursion\u001b[0;34m(etype, value, records)\u001b[0m\n\u001b[1;32m    380\u001b[0m     \u001b[0;31m# first frame (from in to out) that looks different.\u001b[0m\u001b[0;34m\u001b[0m\u001b[0;34m\u001b[0m\u001b[0m\n\u001b[1;32m    381\u001b[0m     \u001b[0;32mif\u001b[0m \u001b[0;32mnot\u001b[0m \u001b[0mis_recursion_error\u001b[0m\u001b[0;34m(\u001b[0m\u001b[0metype\u001b[0m\u001b[0;34m,\u001b[0m \u001b[0mvalue\u001b[0m\u001b[0;34m,\u001b[0m \u001b[0mrecords\u001b[0m\u001b[0;34m)\u001b[0m\u001b[0;34m:\u001b[0m\u001b[0;34m\u001b[0m\u001b[0;34m\u001b[0m\u001b[0m\n\u001b[0;32m--> 382\u001b[0;31m         \u001b[0;32mreturn\u001b[0m \u001b[0mlen\u001b[0m\u001b[0;34m(\u001b[0m\u001b[0mrecords\u001b[0m\u001b[0;34m)\u001b[0m\u001b[0;34m,\u001b[0m \u001b[0;36m0\u001b[0m\u001b[0;34m\u001b[0m\u001b[0;34m\u001b[0m\u001b[0m\n\u001b[0m\u001b[1;32m    383\u001b[0m \u001b[0;34m\u001b[0m\u001b[0m\n\u001b[1;32m    384\u001b[0m     \u001b[0;31m# Select filename, lineno, func_name to track frames with\u001b[0m\u001b[0;34m\u001b[0m\u001b[0;34m\u001b[0m\u001b[0m\n",
      "\u001b[0;31mTypeError\u001b[0m: object of type 'NoneType' has no len()"
     ]
    }
   ],
   "source": [
    "# A Short Program: Zigzag\n",
    "# press i twice (i, i) to interrupt the kernel / sys.exit ( KeyboardInterrupt exception )\n",
    "\n",
    "import time, sys\n",
    "indent = 0 # How many spaces to indent.\n",
    "indentIncreasing = True # A Boolean value for whether the indentation is increasing or not.\n",
    "\n",
    "try:\n",
    "    while True: # The main program loop.\n",
    "        print(' ' * indent, end='')\n",
    "        print('********')\n",
    "        time.sleep(0.2) # Pause for 1/10 of a second.\n",
    "\n",
    "        if indentIncreasing:\n",
    "            # Increase the number of spaces:\n",
    "            indent = indent + 1\n",
    "            if indent == 20:\n",
    "                # Change direction:\n",
    "                indentIncreasing = False\n",
    "\n",
    "        else:\n",
    "            # Decrease the number of spaces:\n",
    "            indent = indent - 1\n",
    "            if indent == 0:\n",
    "                # Change direction:\n",
    "                indentIncreasing = True\n",
    "except KeyboardInterrupt:\n",
    "    sys.exit() # KeyboardInterrrupt exception is raised and handled by this except statement"
   ]
  },
  {
   "cell_type": "code",
   "execution_count": null,
   "id": "a7a96384",
   "metadata": {},
   "outputs": [],
   "source": [
    "# Summary\n",
    "\n",
    "# Functions are the primary way to compartmentalize your code into logical groups. Since the variables in \n",
    "# functions exist in their own local scopes, the code in one function cannot directly affect the values of \n",
    "# variables in other functions. This limits what code could be changing the values of your variables, which can \n",
    "# be helpful when it comes to debugging your code.\n",
    "\n",
    "# Functions are a great tool to help you organize your code. You can think of them as black boxes: they have inputs \n",
    "# in the form of parameters and outputs in the form of return values, and the code in them doesn’t affect variables \n",
    "# in other functions.\n",
    "\n",
    "# In previous chapters, a single error could cause your programs to crash. In this chapter, you learned about try \n",
    "# and except statements, which can run code when an error has been detected. This can make your programs more \n",
    "# resilient to common error cases."
   ]
  },
  {
   "cell_type": "markdown",
   "id": "5f72dfae",
   "metadata": {},
   "source": [
    "Practice Questions\n",
    "\n",
    "1. Why are functions advantageous to have in your programs?\n",
    "\n",
    "/// A function is like a miniprogram within a program.\n",
    "A major purpose of functions is to group code that gets executed multiple times. Without a function defined, you would have to copy and paste this code each time\n",
    "In general, you always want to avoid duplicating code because if you ever decide to update the code—if, for example, you find a bug you need to fix—you’ll have to remember to change the code everywhere you copied it.\n",
    "\n",
    "As you get more programming experience, you’ll often find yourself deduplicating code, which means getting rid of duplicated or copy-and-pasted code. Deduplication makes your programs shorter, easier to read, and easier to update.\n",
    "\n",
    "2. When does the code in a function execute: when the function is defined or when the function is called?\n",
    "\n",
    "/// The code in a function executes when the function is called - NOT when it is defined\n",
    "\n",
    "3. What statement creates a function?\n",
    "\n",
    "def\n",
    "\n",
    "4. What is the difference between a function and a function call?\n",
    "\n",
    "A function is the code that performs something and a function call is the code that triggers the function\n",
    "When a function is called with arguments - the code inside the brackets of the functionName('argumentcall') - the arguments are stored in the parameters - def functionName(parameter) # top line of function\n",
    "\n",
    "One special thing to note about parameters is that the value stored in a parameter is forgotten when the function returns. This variable is destroyed after the first function call\n",
    "\n",
    "5. How many global scopes are there in a Python program? How many local scopes?\n",
    "\n",
    "1 global scope and multiple (unlimited?) local scopes\n",
    "\n",
    "6. What happens to variables in a local scope when the function call returns?\n",
    "\n",
    "They are discarded\n",
    "\n",
    "7. What is a return value? Can a return value be part of an expression?\n",
    "\n",
    "The result of the function. The value that a function call evaluates to is called the return value of the function. \n",
    "\n",
    "When creating a function using the def statement, you can specify what the return value should be with a return statement. A return statement consists of the following:\n",
    "-The return keyword\n",
    "-The value or expression that the function should return\n",
    "\n",
    "8. If a function does not have a return statement, what is the return value of a call to that function?\n",
    "\n",
    "The None Value - the absence of a value. The None value is the only value of the NoneType data type. (Other programming languages might call this value null, nil, or undefined.) Just like the Boolean True and False values, None must be typed with a capital N.\n",
    "\n",
    "9. How can you force a variable in a function to refer to the global variable?\n",
    "\n",
    "Using the global statement\n",
    "\n",
    "10. What is the data type of None?\n",
    "\n",
    "The None value is the only value of the NoneType data type.\n",
    "\n",
    "11. What does the import areallyourpetsnamederic statement do?\n",
    "\n",
    "It imports a module named areallyourpetsnamederic - which isn't a real Python module\n",
    "\n",
    "12. If you had a function named bacon() in a module named spam, how would you call it after importing spam?\n",
    "\n",
    "This function could be called with: spam.bacon()\n",
    "\n",
    "13. How can you prevent a program from crashing when it gets an error?\n",
    "\n",
    "Place the line of code that might cause an error in a try clause. Using the Try and Except clauses\n",
    "\n",
    "14. What goes in the try clause? What goes in the except clause?\n",
    "\n",
    "The code that could potentially cause an error goes in the try clause. The code that executes if an error happens goes in the except clause."
   ]
  },
  {
   "cell_type": "code",
   "execution_count": 49,
   "id": "e1693ea8",
   "metadata": {},
   "outputs": [
    {
     "name": "stdout",
     "output_type": "stream",
     "text": [
      "Enter a number:op\n",
      "Please enter an integer value\n"
     ]
    }
   ],
   "source": [
    "# Practice Project\n",
    "\n",
    "# The Collatz Sequence\n",
    "\n",
    "def collatz(number):\n",
    "    if number % 2 == 0:         # Even number\n",
    "        print(number // 2)\n",
    "        return(number // 2)\n",
    "        \n",
    "    elif number % 2 == 1:       # Odd number\n",
    "        result = 3 * number + 1\n",
    "        print(result)\n",
    "        return(result)\n",
    "    \n",
    "n = input(\"Enter a number: \")   # Program starts here!\n",
    "\n",
    "# while True:\n",
    "try:\n",
    "    while n != 1:\n",
    "        n = collatz(int(n))     # ERROR! if a text string or float is input.\n",
    "        break\n",
    "except ValueError:\n",
    "    print('Please enter an integer value')\n",
    "    \n",
    "                                # How to make it start again ?????? ***"
   ]
  },
  {
   "cell_type": "code",
   "execution_count": 43,
   "id": "b903a54b",
   "metadata": {},
   "outputs": [
    {
     "name": "stdout",
     "output_type": "stream",
     "text": [
      "Please input any integer to begin the Collatz sequence.\n",
      "puppy\n",
      "please enter an integer\n",
      "op\n",
      "please enter an integer\n",
      "9\n",
      "3 * 9 + 1 = 28\n",
      "28 // 2 = 14\n",
      "14 // 2 = 7\n",
      "3 * 7 + 1 = 22\n",
      "22 // 2 = 11\n",
      "3 * 11 + 1 = 34\n",
      "34 // 2 = 17\n",
      "3 * 17 + 1 = 52\n",
      "52 // 2 = 26\n",
      "26 // 2 = 13\n",
      "3 * 13 + 1 = 40\n",
      "40 // 2 = 20\n",
      "20 // 2 = 10\n",
      "10 // 2 = 5\n",
      "3 * 5 + 1 = 16\n",
      "16 // 2 = 8\n",
      "8 // 2 = 4\n",
      "4 // 2 = 2\n",
      "2 // 2 = 1\n"
     ]
    }
   ],
   "source": [
    "# Someone elses but it's good because it shows what is happening - and also sends you back to the start if no integer\n",
    "\n",
    "def collatz(number):\n",
    "    while number == 1:\n",
    "        print(\"3 * \" + str(number) + \" + 1 = \" + str(3*number+1))\n",
    "        number = 3*number+1 ## this while loop only runs once if at all b/c at end of it the value of the variable is not equal to 1\n",
    "    else:\n",
    "        while number != 1:\n",
    "            if number % 2 == 0:\n",
    "                print(str(number) + ' // 2 = ' + str(number//2))\n",
    "                number = number//2\n",
    "            else:\n",
    "                print(\"3 * \" + str(number) + \" + 1 = \" + str(3*number+1))\n",
    "                number = 3*number+1\n",
    "\n",
    "print('Please input any integer to begin the Collatz sequence.')\n",
    "\n",
    "while True:\n",
    "    try:\n",
    "        number = int(input())\n",
    "        collatz(number)\n",
    "        break\n",
    "    except ValueError:\n",
    "        print('please enter an integer')\n",
    "        "
   ]
  },
  {
   "cell_type": "code",
   "execution_count": null,
   "id": "8a3b0011",
   "metadata": {},
   "outputs": [],
   "source": []
  }
 ],
 "metadata": {
  "kernelspec": {
   "display_name": "Python 3 (ipykernel)",
   "language": "python",
   "name": "python3"
  },
  "language_info": {
   "codemirror_mode": {
    "name": "ipython",
    "version": 3
   },
   "file_extension": ".py",
   "mimetype": "text/x-python",
   "name": "python",
   "nbconvert_exporter": "python",
   "pygments_lexer": "ipython3",
   "version": "3.9.7"
  }
 },
 "nbformat": 4,
 "nbformat_minor": 5
}
