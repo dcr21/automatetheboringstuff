{
 "cells": [
  {
   "cell_type": "code",
   "execution_count": 1,
   "id": "bac976a7",
   "metadata": {},
   "outputs": [
    {
     "data": {
      "text/plain": [
       "4"
      ]
     },
     "execution_count": 1,
     "metadata": {},
     "output_type": "execute_result"
    }
   ],
   "source": [
    "2 + 2"
   ]
  },
  {
   "cell_type": "code",
   "execution_count": 2,
   "id": "34a34578",
   "metadata": {},
   "outputs": [
    {
     "data": {
      "text/plain": [
       "20"
      ]
     },
     "execution_count": 2,
     "metadata": {},
     "output_type": "execute_result"
    }
   ],
   "source": [
    "2+3*6\n"
   ]
  },
  {
   "cell_type": "code",
   "execution_count": 3,
   "id": "0d1f43ce",
   "metadata": {},
   "outputs": [
    {
     "data": {
      "text/plain": [
       "30"
      ]
     },
     "execution_count": 3,
     "metadata": {},
     "output_type": "execute_result"
    }
   ],
   "source": [
    "(2 + 3) * 6"
   ]
  },
  {
   "cell_type": "code",
   "execution_count": 4,
   "id": "011ccfad",
   "metadata": {},
   "outputs": [
    {
     "data": {
      "text/plain": [
       "28093077826734"
      ]
     },
     "execution_count": 4,
     "metadata": {},
     "output_type": "execute_result"
    }
   ],
   "source": [
    "48565878 * 578453"
   ]
  },
  {
   "cell_type": "code",
   "execution_count": 5,
   "id": "4464d010",
   "metadata": {},
   "outputs": [
    {
     "data": {
      "text/plain": [
       "3"
      ]
     },
     "execution_count": 5,
     "metadata": {},
     "output_type": "execute_result"
    }
   ],
   "source": [
    "23 // 7"
   ]
  },
  {
   "cell_type": "code",
   "execution_count": 11,
   "id": "2d7292c3",
   "metadata": {},
   "outputs": [
    {
     "name": "stdout",
     "output_type": "stream",
     "text": [
      "Hello, world!\n"
     ]
    }
   ],
   "source": [
    "# This is a string\n",
    "\n",
    "string = 'Hello, world!' \n",
    "print(string)"
   ]
  },
  {
   "cell_type": "code",
   "execution_count": 14,
   "id": "8f54d24b",
   "metadata": {},
   "outputs": [
    {
     "name": "stdout",
     "output_type": "stream",
     "text": [
      "310\n"
     ]
    }
   ],
   "source": [
    "# This is an integer\n",
    "\n",
    "integer = 309 + 1 \n",
    "print(integer)"
   ]
  },
  {
   "cell_type": "code",
   "execution_count": 15,
   "id": "143fd50d",
   "metadata": {},
   "outputs": [
    {
     "name": "stdout",
     "output_type": "stream",
     "text": [
      "9.5055335\n"
     ]
    }
   ],
   "source": [
    "# This is a floating point (decimals)\n",
    "\n",
    "floating_point = 1.99 * 4.77665 \n",
    "print(floating_point)"
   ]
  },
  {
   "cell_type": "code",
   "execution_count": 20,
   "id": "ce09852f",
   "metadata": {},
   "outputs": [
    {
     "data": {
      "text/plain": [
       "'FizzBuzz'"
      ]
     },
     "execution_count": 20,
     "metadata": {},
     "output_type": "execute_result"
    }
   ],
   "source": [
    "# String Concatenation\n",
    "\n",
    "'Fizz' + 'Buzz' "
   ]
  },
  {
   "cell_type": "code",
   "execution_count": 22,
   "id": "0311f4ec",
   "metadata": {},
   "outputs": [
    {
     "data": {
      "text/plain": [
       "'AliceAliceAliceAliceAlice'"
      ]
     },
     "execution_count": 22,
     "metadata": {},
     "output_type": "execute_result"
    }
   ],
   "source": [
    "# String Replication\n",
    "\n",
    "'Alice' * 5 \n",
    "\n",
    "# Only works for str * int : you can’t multiply two words, and it’s hard to \n",
    "# replicate an arbitrary string a fractional number of times."
   ]
  },
  {
   "cell_type": "code",
   "execution_count": 25,
   "id": "7ce4f90e",
   "metadata": {},
   "outputs": [
    {
     "data": {
      "text/plain": [
       "40"
      ]
     },
     "execution_count": 25,
     "metadata": {},
     "output_type": "execute_result"
    }
   ],
   "source": [
    "# Assignment statement: variable name - assignment operator (=) - value\n",
    "\n",
    "spam = 40\n",
    "spam\n",
    "\n",
    "# A variable is initialized (or created) the first time a value is stored in it"
   ]
  },
  {
   "cell_type": "code",
   "execution_count": 26,
   "id": "2041ca9a",
   "metadata": {},
   "outputs": [
    {
     "data": {
      "text/plain": [
       "40"
      ]
     },
     "execution_count": 26,
     "metadata": {},
     "output_type": "execute_result"
    }
   ],
   "source": [
    "spam"
   ]
  },
  {
   "cell_type": "code",
   "execution_count": 28,
   "id": "30e6c6f1",
   "metadata": {},
   "outputs": [
    {
     "data": {
      "text/plain": [
       "3"
      ]
     },
     "execution_count": 28,
     "metadata": {},
     "output_type": "execute_result"
    }
   ],
   "source": [
    "# When a variable is assigned a new value, the old value is forgotten (eg. 40 ^^))\n",
    "\n",
    "spam = 3 \n",
    "spam"
   ]
  },
  {
   "cell_type": "code",
   "execution_count": 29,
   "id": "e9782913",
   "metadata": {},
   "outputs": [],
   "source": [
    "# it is a Python convention to start your variables with a lowercase letter, and use camelCase or underscores"
   ]
  },
  {
   "cell_type": "code",
   "execution_count": 37,
   "id": "01d2ebd7",
   "metadata": {},
   "outputs": [
    {
     "name": "stdout",
     "output_type": "stream",
     "text": [
      "Hello, world!\n",
      "What is your name?\n",
      "steve\n",
      "It is good to meet you, steve\n",
      "The length of your name is:\n",
      "5\n",
      "What is your age?\n",
      "7\n",
      "You will be 8 in a year.\n"
     ]
    }
   ],
   "source": [
    "# This PROGRAM says hello and asks for my name. # may need to 'interrupt' the Kernel to make it work\n",
    "\n",
    "print('Hello, world!')\n",
    "print('What is your name?')\n",
    "\n",
    "myName = input()\n",
    "print('It is good to meet you, ' + myName)\n",
    "\n",
    "print('The length of your name is:')\n",
    "print(len(myName))\n",
    "\n",
    "print('What is your age?')    # ask for their age\n",
    "myAge = input()\n",
    "\n",
    "print('You will be ' + str(int(myAge) + 1) + ' in a year.')"
   ]
  },
  {
   "cell_type": "code",
   "execution_count": 38,
   "id": "9baf2188",
   "metadata": {},
   "outputs": [
    {
     "data": {
      "text/plain": [
       "46"
      ]
     },
     "execution_count": 38,
     "metadata": {},
     "output_type": "execute_result"
    }
   ],
   "source": [
    "len('My very energetic monster just scarfed nachos.') # 46 characters total including spaces"
   ]
  },
  {
   "cell_type": "code",
   "execution_count": 39,
   "id": "934142c8",
   "metadata": {},
   "outputs": [
    {
     "name": "stdout",
     "output_type": "stream",
     "text": [
      "I am 29 years old.\n"
     ]
    }
   ],
   "source": [
    "# Must convert the integer into a string to concatenate the strings\n",
    "\n",
    "print('I am ' + str(29) + ' years old.')"
   ]
  },
  {
   "cell_type": "code",
   "execution_count": 40,
   "id": "30ecdcf3",
   "metadata": {},
   "outputs": [
    {
     "name": "stdout",
     "output_type": "stream",
     "text": [
      "101\n"
     ]
    }
   ],
   "source": [
    "spam = input()"
   ]
  },
  {
   "cell_type": "code",
   "execution_count": 41,
   "id": "48e4bff1",
   "metadata": {},
   "outputs": [
    {
     "data": {
      "text/plain": [
       "'101'"
      ]
     },
     "execution_count": 41,
     "metadata": {},
     "output_type": "execute_result"
    }
   ],
   "source": [
    "spam # as you can see - this returns 101 as a STRING as default because of the ''"
   ]
  },
  {
   "cell_type": "code",
   "execution_count": 42,
   "id": "e3974c1b",
   "metadata": {},
   "outputs": [
    {
     "data": {
      "text/plain": [
       "101"
      ]
     },
     "execution_count": 42,
     "metadata": {},
     "output_type": "execute_result"
    }
   ],
   "source": [
    "# If you want to do math with the result - you need to convert to an INTEGER first\n",
    "\n",
    "spam = int(spam)\n",
    "spam"
   ]
  },
  {
   "cell_type": "code",
   "execution_count": 43,
   "id": "e65632d5",
   "metadata": {},
   "outputs": [
    {
     "data": {
      "text/plain": [
       "202.0"
      ]
     },
     "execution_count": 43,
     "metadata": {},
     "output_type": "execute_result"
    }
   ],
   "source": [
    "# Now you can treat the variable 'spam' as an integer\n",
    "\n",
    "spam * 10 / 5\n"
   ]
  },
  {
   "cell_type": "code",
   "execution_count": 46,
   "id": "cd07d949",
   "metadata": {},
   "outputs": [
    {
     "data": {
      "text/plain": [
       "7"
      ]
     },
     "execution_count": 46,
     "metadata": {},
     "output_type": "execute_result"
    }
   ],
   "source": [
    "# Some values cannot be turned into an Integer\n",
    "\n",
    "#int('99.99')\n",
    "#int('twelve')\n",
    "\n",
    "# The int() function is also useful if you need to round a floating-point number down.\n",
    "\n",
    "int(7.7)\n"
   ]
  },
  {
   "cell_type": "code",
   "execution_count": 47,
   "id": "008d065b",
   "metadata": {},
   "outputs": [
    {
     "data": {
      "text/plain": [
       "8"
      ]
     },
     "execution_count": 47,
     "metadata": {},
     "output_type": "execute_result"
    }
   ],
   "source": [
    "int(7.7) + 1\n"
   ]
  },
  {
   "cell_type": "code",
   "execution_count": 48,
   "id": "adf55642",
   "metadata": {},
   "outputs": [
    {
     "data": {
      "text/plain": [
       "False"
      ]
     },
     "execution_count": 48,
     "metadata": {},
     "output_type": "execute_result"
    }
   ],
   "source": [
    "# An integer cannot be equal to a string but can be equal to a floating point\n",
    "\n",
    "42 == '42'"
   ]
  },
  {
   "cell_type": "code",
   "execution_count": 49,
   "id": "715b8980",
   "metadata": {},
   "outputs": [
    {
     "data": {
      "text/plain": [
       "True"
      ]
     },
     "execution_count": 49,
     "metadata": {},
     "output_type": "execute_result"
    }
   ],
   "source": [
    "42 == 42.0"
   ]
  },
  {
   "cell_type": "code",
   "execution_count": 50,
   "id": "a07daac6",
   "metadata": {},
   "outputs": [
    {
     "data": {
      "text/plain": [
       "'I have eaten 99 burritos.'"
      ]
     },
     "execution_count": 50,
     "metadata": {},
     "output_type": "execute_result"
    }
   ],
   "source": [
    "'I have eaten ' + str(99) + ' burritos.'"
   ]
  },
  {
   "cell_type": "code",
   "execution_count": null,
   "id": "b1e6bb4a",
   "metadata": {},
   "outputs": [],
   "source": []
  }
 ],
 "metadata": {
  "kernelspec": {
   "display_name": "Python 3 (ipykernel)",
   "language": "python",
   "name": "python3"
  },
  "language_info": {
   "codemirror_mode": {
    "name": "ipython",
    "version": 3
   },
   "file_extension": ".py",
   "mimetype": "text/x-python",
   "name": "python",
   "nbconvert_exporter": "python",
   "pygments_lexer": "ipython3",
   "version": "3.9.7"
  }
 },
 "nbformat": 4,
 "nbformat_minor": 5
}
