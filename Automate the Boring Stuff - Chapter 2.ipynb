{
 "cells": [
  {
   "cell_type": "code",
   "execution_count": 1,
   "id": "41598e3a",
   "metadata": {},
   "outputs": [
    {
     "data": {
      "text/plain": [
       "True"
      ]
     },
     "execution_count": 1,
     "metadata": {},
     "output_type": "execute_result"
    }
   ],
   "source": [
    "# Boolean data type has only two values: True and False\n",
    "\n",
    "spam = True\n",
    "spam"
   ]
  },
  {
   "cell_type": "code",
   "execution_count": 2,
   "id": "955b26d5",
   "metadata": {},
   "outputs": [
    {
     "data": {
      "text/plain": [
       "True"
      ]
     },
     "execution_count": 2,
     "metadata": {},
     "output_type": "execute_result"
    }
   ],
   "source": [
    "# Comparison operators, also called relational operators, \n",
    "# compare two values and evaluate down to a single Boolean value.\n",
    "\n",
    "42 == 42"
   ]
  },
  {
   "cell_type": "code",
   "execution_count": 3,
   "id": "885b82b4",
   "metadata": {},
   "outputs": [
    {
     "data": {
      "text/plain": [
       "False"
      ]
     },
     "execution_count": 3,
     "metadata": {},
     "output_type": "execute_result"
    }
   ],
   "source": [
    "42 == 99 "
   ]
  },
  {
   "cell_type": "code",
   "execution_count": 4,
   "id": "3ae62b3f",
   "metadata": {},
   "outputs": [
    {
     "data": {
      "text/plain": [
       "True"
      ]
     },
     "execution_count": 4,
     "metadata": {},
     "output_type": "execute_result"
    }
   ],
   "source": [
    "2 != 3 # not equal"
   ]
  },
  {
   "cell_type": "code",
   "execution_count": 5,
   "id": "31cff8d4",
   "metadata": {},
   "outputs": [
    {
     "data": {
      "text/plain": [
       "False"
      ]
     },
     "execution_count": 5,
     "metadata": {},
     "output_type": "execute_result"
    }
   ],
   "source": [
    "2 != 2"
   ]
  },
  {
   "cell_type": "code",
   "execution_count": 6,
   "id": "340b6f5d",
   "metadata": {},
   "outputs": [
    {
     "data": {
      "text/plain": [
       "True"
      ]
     },
     "execution_count": 6,
     "metadata": {},
     "output_type": "execute_result"
    }
   ],
   "source": [
    "42 < 100"
   ]
  },
  {
   "cell_type": "code",
   "execution_count": 7,
   "id": "cf4bb5f0",
   "metadata": {},
   "outputs": [
    {
     "data": {
      "text/plain": [
       "False"
      ]
     },
     "execution_count": 7,
     "metadata": {},
     "output_type": "execute_result"
    }
   ],
   "source": [
    "eggCount = 42\n",
    "eggCount < 42"
   ]
  },
  {
   "cell_type": "code",
   "execution_count": 8,
   "id": "0ed7cc9d",
   "metadata": {},
   "outputs": [],
   "source": [
    "# THE DIFFERENCE BETWEEN THE == AND = OPERATORS\n",
    "#\n",
    "# The == operator (equal to) asks whether two values are the same as each other.\n",
    "# The = operator (assignment) puts the value on the right into the variable on the left."
   ]
  },
  {
   "cell_type": "code",
   "execution_count": 9,
   "id": "429edd12",
   "metadata": {},
   "outputs": [
    {
     "data": {
      "text/plain": [
       "True"
      ]
     },
     "execution_count": 9,
     "metadata": {},
     "output_type": "execute_result"
    }
   ],
   "source": [
    "# The and and or operators always take two Boolean values (or expressions), \n",
    "# so they’re considered BINARY operators\n",
    "\n",
    "True and True"
   ]
  },
  {
   "cell_type": "code",
   "execution_count": 10,
   "id": "00d93fca",
   "metadata": {},
   "outputs": [
    {
     "data": {
      "text/plain": [
       "False"
      ]
     },
     "execution_count": 10,
     "metadata": {},
     "output_type": "execute_result"
    }
   ],
   "source": [
    "False and False"
   ]
  },
  {
   "cell_type": "code",
   "execution_count": 11,
   "id": "7d8ad8c2",
   "metadata": {},
   "outputs": [
    {
     "data": {
      "text/plain": [
       "False"
      ]
     },
     "execution_count": 11,
     "metadata": {},
     "output_type": "execute_result"
    }
   ],
   "source": [
    "True and False"
   ]
  },
  {
   "cell_type": "code",
   "execution_count": 12,
   "id": "a014a753",
   "metadata": {},
   "outputs": [
    {
     "data": {
      "text/plain": [
       "True"
      ]
     },
     "execution_count": 12,
     "metadata": {},
     "output_type": "execute_result"
    }
   ],
   "source": [
    "True or True"
   ]
  },
  {
   "cell_type": "code",
   "execution_count": 13,
   "id": "a4c2533b",
   "metadata": {},
   "outputs": [
    {
     "data": {
      "text/plain": [
       "True"
      ]
     },
     "execution_count": 13,
     "metadata": {},
     "output_type": "execute_result"
    }
   ],
   "source": [
    "True or False"
   ]
  },
  {
   "cell_type": "code",
   "execution_count": 14,
   "id": "68a827bb",
   "metadata": {},
   "outputs": [
    {
     "data": {
      "text/plain": [
       "True"
      ]
     },
     "execution_count": 14,
     "metadata": {},
     "output_type": "execute_result"
    }
   ],
   "source": [
    "False or True"
   ]
  },
  {
   "cell_type": "code",
   "execution_count": 15,
   "id": "a05f0f89",
   "metadata": {},
   "outputs": [
    {
     "data": {
      "text/plain": [
       "False"
      ]
     },
     "execution_count": 15,
     "metadata": {},
     "output_type": "execute_result"
    }
   ],
   "source": [
    "False or False"
   ]
  },
  {
   "cell_type": "code",
   "execution_count": 16,
   "id": "01915088",
   "metadata": {},
   "outputs": [
    {
     "data": {
      "text/plain": [
       "False"
      ]
     },
     "execution_count": 16,
     "metadata": {},
     "output_type": "execute_result"
    }
   ],
   "source": [
    "not True"
   ]
  },
  {
   "cell_type": "code",
   "execution_count": 17,
   "id": "66400c57",
   "metadata": {},
   "outputs": [
    {
     "data": {
      "text/plain": [
       "True"
      ]
     },
     "execution_count": 17,
     "metadata": {},
     "output_type": "execute_result"
    }
   ],
   "source": [
    "not False"
   ]
  },
  {
   "cell_type": "code",
   "execution_count": 18,
   "id": "ec71cf68",
   "metadata": {},
   "outputs": [
    {
     "data": {
      "text/plain": [
       "False"
      ]
     },
     "execution_count": 18,
     "metadata": {},
     "output_type": "execute_result"
    }
   ],
   "source": [
    "not not not True"
   ]
  },
  {
   "cell_type": "code",
   "execution_count": 19,
   "id": "de2ffb75",
   "metadata": {},
   "outputs": [
    {
     "data": {
      "text/plain": [
       "True"
      ]
     },
     "execution_count": 19,
     "metadata": {},
     "output_type": "execute_result"
    }
   ],
   "source": [
    "not not not not True # 'nesting' not operators / like double negatives"
   ]
  },
  {
   "cell_type": "code",
   "execution_count": 20,
   "id": "359ece5e",
   "metadata": {},
   "outputs": [
    {
     "data": {
      "text/plain": [
       "True"
      ]
     },
     "execution_count": 20,
     "metadata": {},
     "output_type": "execute_result"
    }
   ],
   "source": [
    "(4 < 5) and (5 < 6)"
   ]
  },
  {
   "cell_type": "code",
   "execution_count": 21,
   "id": "3b1ece7f",
   "metadata": {},
   "outputs": [
    {
     "data": {
      "text/plain": [
       "False"
      ]
     },
     "execution_count": 21,
     "metadata": {},
     "output_type": "execute_result"
    }
   ],
   "source": [
    "(4 < 5) and (9 < 6)"
   ]
  },
  {
   "cell_type": "code",
   "execution_count": 22,
   "id": "f967d061",
   "metadata": {},
   "outputs": [
    {
     "data": {
      "text/plain": [
       "True"
      ]
     },
     "execution_count": 22,
     "metadata": {},
     "output_type": "execute_result"
    }
   ],
   "source": [
    "(1 == 2) or (2 == 2) # The or operator basically means: Are either of these True ?"
   ]
  },
  {
   "cell_type": "code",
   "execution_count": 23,
   "id": "6be21ba1",
   "metadata": {},
   "outputs": [
    {
     "data": {
      "text/plain": [
       "True"
      ]
     },
     "execution_count": 23,
     "metadata": {},
     "output_type": "execute_result"
    }
   ],
   "source": [
    "2 + 2 == 4 and not 2 + 2 == 5 and 2 * 2 == 2 + 2"
   ]
  },
  {
   "cell_type": "code",
   "execution_count": 26,
   "id": "c6145306",
   "metadata": {},
   "outputs": [
    {
     "name": "stdout",
     "output_type": "stream",
     "text": [
      "Hello, Mary\n",
      "Access granted.\n"
     ]
    }
   ],
   "source": [
    "# Blocks of code\n",
    "\n",
    "name = 'Mary'\n",
    "password = 'swordfish'\n",
    "if name == 'Mary':\n",
    "    print('Hello, Mary')\n",
    "    if password == 'swordfish':\n",
    "        print('Access granted.')\n",
    "    else:\n",
    "        print('Wrong password.')"
   ]
  },
  {
   "cell_type": "code",
   "execution_count": 33,
   "id": "c9a08795",
   "metadata": {},
   "outputs": [
    {
     "name": "stdout",
     "output_type": "stream",
     "text": [
      "Unlike you, Alice is not an undead, immortal vampire.\n"
     ]
    }
   ],
   "source": [
    "name = 'Carol'\n",
    "age = 3000\n",
    "if name == 'Alice':\n",
    "    print('Hi, Alice.')\n",
    "elif age < 12:\n",
    "    print('You are not Alice, kiddo.')\n",
    "elif age > 2000:\n",
    "    print('Unlike you, Alice is not an undead, immortal vampire.')\n",
    "elif age > 100:\n",
    "    print('You are not Alice, grannie.')"
   ]
  },
  {
   "cell_type": "code",
   "execution_count": 36,
   "id": "c379f5ee",
   "metadata": {},
   "outputs": [
    {
     "name": "stdout",
     "output_type": "stream",
     "text": [
      "Hello, world.\n"
     ]
    }
   ],
   "source": [
    "# An if statement - These statements are similar -\n",
    "# both if and while check the value of spam, and if it’s less than 5, they print a message.\n",
    "\n",
    "spam = 3\n",
    "if spam < 5:\n",
    "    print('Hello, world.')\n",
    "    spam = spam + 1\n",
    "    \n",
    "# the if statement checks the condition, and it prints Hello, world. only once if that condition is true."
   ]
  },
  {
   "cell_type": "code",
   "execution_count": 37,
   "id": "80adbe60",
   "metadata": {},
   "outputs": [
    {
     "name": "stdout",
     "output_type": "stream",
     "text": [
      "Hello, world.\n",
      "Hello, world.\n",
      "Hello, world.\n",
      "Hello, world.\n",
      "Hello, world.\n"
     ]
    }
   ],
   "source": [
    "# A while loop - The loop stops after five prints because the integer in spam increases by one at the \n",
    "# end of each loop iteration, which means that the loop will execute five times before spam < 5 is False.\n",
    "\n",
    "spam = 0\n",
    "while spam < 5:\n",
    "    print('Hello, world.')\n",
    "    spam = spam + 1\n",
    "    \n",
    "# In the while loop, the condition is always checked at the start of each iteration \n",
    "# (that is, each time the loop is executed). If the condition is True, then the clause \n",
    "# is executed, and afterward, the condition is checked again. The first time the condition \n",
    "# is found to be False, the while clause is skipped."
   ]
  },
  {
   "cell_type": "code",
   "execution_count": 38,
   "id": "0cb5f157",
   "metadata": {},
   "outputs": [
    {
     "name": "stdout",
     "output_type": "stream",
     "text": [
      "Please type your name.\n",
      "David\n",
      "Please type your name.\n",
      "Steve\n",
      "Please type your name.\n",
      "Albert\n",
      "Please type your name.\n",
      "your name\n",
      "Thank you!\n"
     ]
    }
   ],
   "source": [
    "# Funny While loop\n",
    "\n",
    "name = ''\n",
    "while name != 'your name':\n",
    "    print('Please type your name.')\n",
    "    name = input()\n",
    "print('Thank you!')"
   ]
  },
  {
   "cell_type": "code",
   "execution_count": 39,
   "id": "2faa5250",
   "metadata": {},
   "outputs": [
    {
     "name": "stdout",
     "output_type": "stream",
     "text": [
      "Please type your name.\n",
      "David\n",
      "Please type your name.\n",
      "your name\n",
      "Thank you!\n"
     ]
    }
   ],
   "source": [
    "# Break statement - If the execution reaches a break statement, it immediately exits the while loop’s clause\n",
    "\n",
    "while True:\n",
    "    print('Please type your name.')\n",
    "    name = input()\n",
    "    if name == 'your name':\n",
    "        break\n",
    "print('Thank you!')"
   ]
  },
  {
   "cell_type": "code",
   "execution_count": 40,
   "id": "033c4d84",
   "metadata": {},
   "outputs": [
    {
     "name": "stdout",
     "output_type": "stream",
     "text": [
      "Who are you?\n",
      "David\n",
      "Who are you?\n",
      "Joe\n",
      "Hello, Joe. What is the password? (It is a fish.)\n",
      "swordfish\n",
      "Access granted.\n"
     ]
    }
   ],
   "source": [
    "# Continue statements\n",
    "\n",
    "# When the program execution reaches a continue statement, the program execution immediately \n",
    "# jumps back to the start of the loop and reevaluates the loop’s condition. (This is also what \n",
    "# happens when the execution reaches the end of the loop.)\n",
    "\n",
    "while True: # You stay in the loop until you break out of it - by inputting the correct info\n",
    "    print('Who are you?')\n",
    "    name = input()\n",
    "    if name != 'Joe': # The continue means that you stay within the loop if the name is NOT Joe\n",
    "        continue\n",
    "    print('Hello, Joe. What is the password? (It is a fish.)') # If it is Joe, then you progress \n",
    "    password = input()\n",
    "    if password == 'swordfish':\n",
    "        break\n",
    "print('Access granted.')    "
   ]
  },
  {
   "cell_type": "code",
   "execution_count": 42,
   "id": "ea9a2099",
   "metadata": {},
   "outputs": [
    {
     "name": "stdout",
     "output_type": "stream",
     "text": [
      "Who are you?\n",
      "Joe\n",
      "Who are you?\n",
      "Joe\n",
      "Who are you?\n",
      "David\n",
      "Hello, Joe. What is the password? (It is a fish.)\n",
      "Cuttlefish\n",
      "Who are you?\n",
      "Harris\n",
      "Hello, Joe. What is the password? (It is a fish.)\n",
      "Shark\n",
      "Who are you?\n",
      "Ivan\n",
      "Hello, Joe. What is the password? (It is a fish.)\n",
      "swordfish\n",
      "Access granted.\n"
     ]
    }
   ],
   "source": [
    "# If the user enters any name besides Joe, the continue statement causes the program execution \n",
    "# to jump back to the start of the loop. When the program reevaluates the condition, \n",
    "# the execution will always enter the loop, since the condition is simply the value True. \n",
    "# Once the user makes it past that if statement, they are asked for a password\n",
    "# If the password entered is swordfish, then the break statement is run, and the execution \n",
    "# jumps out of the while loop to print Access granted. Otherwise, the execution continues \n",
    "# to the end of the while loop, where it then jumps back to the start of the loop.\n",
    "\n",
    "while True: # So here \n",
    "    print('Who are you?')\n",
    "    name = input()\n",
    "    if name == 'Joe': # I changed the operator here because it didn't make sense at 1st.\n",
    "        continue      # Basically it has to be != as above because it keeps you in the loop\n",
    "    print('Hello, Joe. What is the password? (It is a fish.)')\n",
    "    password = input()\n",
    "    if password == 'swordfish':\n",
    "        break\n",
    "print('Access granted.')    "
   ]
  },
  {
   "cell_type": "code",
   "execution_count": 44,
   "id": "4538e22c",
   "metadata": {},
   "outputs": [
    {
     "name": "stdout",
     "output_type": "stream",
     "text": [
      "Enter your name:\n",
      "Jevolplo\n",
      "How many guests will you have?\n",
      "3\n",
      "Be sure to have enough room for all your guests.\n",
      "Done\n"
     ]
    }
   ],
   "source": [
    "name = ''\n",
    "while not name:\n",
    "    print('Enter your name:')\n",
    "    name = input()\n",
    "print('How many guests will you have?')\n",
    "numOfGuests = int(input())\n",
    "if numOfGuests:\n",
    "    print('Be sure to have enough room for all your guests.')\n",
    "print('Done')"
   ]
  },
  {
   "cell_type": "code",
   "execution_count": 45,
   "id": "11821830",
   "metadata": {},
   "outputs": [
    {
     "name": "stdout",
     "output_type": "stream",
     "text": [
      "Jimmy Five Times (0)\n",
      "Jimmy Five Times (1)\n",
      "Jimmy Five Times (2)\n",
      "Jimmy Five Times (3)\n",
      "Jimmy Five Times (4)\n"
     ]
    }
   ],
   "source": [
    "# what if you want to execute a block of code only a certain number of times? \n",
    "# You can do this with a for loop statement and the range() function.print('My name is')\n",
    "\n",
    "for i in range(5):\n",
    "    print('Jimmy Five Times (' + str(i) + ')') # converts the integer i to a string in order to print\n",
    "    \n",
    "# The code in the for loop’s clause is run five times. The first time it is run, \n",
    "# the variable i is set to 0. The print() call in the clause will print Jimmy Five Times (0). \n",
    "# After Python finishes an iteration through all the code inside the for loop’s clause, \n",
    "# the execution goes back to the top of the loop, and the for statement increments i by one.\n",
    "# So the range function is similar to i = i + 1"
   ]
  },
  {
   "cell_type": "code",
   "execution_count": 46,
   "id": "7d1f0567",
   "metadata": {},
   "outputs": [
    {
     "name": "stdout",
     "output_type": "stream",
     "text": [
      "5050\n"
     ]
    }
   ],
   "source": [
    "# Write a loop to add up all the numbers from 0 to 100\n",
    "\n",
    "total = 0\n",
    "for num in range(101):\n",
    "    total = total + num\n",
    "print(total)  \n",
    "\n",
    "# When the program first starts, the total variable is set to 0. The for loop then executes \n",
    "# total = total + num 100 times. By the time the loop has finished all of its 100 iterations, \n",
    "# every integer from 0 to 100 will have been added to total. At this point, total is printed to the screen"
   ]
  },
  {
   "cell_type": "code",
   "execution_count": 49,
   "id": "243b1837",
   "metadata": {},
   "outputs": [
    {
     "name": "stdout",
     "output_type": "stream",
     "text": [
      "My name is\n",
      "Jimmy Five Times (1)\n",
      "Jimmy Five Times (2)\n",
      "Jimmy Five Times (3)\n",
      "Jimmy Five Times (4)\n",
      "Jimmy Five Times (5)\n"
     ]
    }
   ],
   "source": [
    "# An Equivalent while Loop to do the same thing as a for loop; for loops are just more concise\n",
    "\n",
    "print('My name is')\n",
    "i = 0\n",
    "while i < 5:\n",
    "    print('Jimmy Five Times (' + str(i + 1) + ')') \n",
    "    i = i + 1\n",
    "    \n",
    "# I altered the code by adding a +1 inside the i / string conversion to display 1-5 instead of 0 - 4"
   ]
  },
  {
   "cell_type": "code",
   "execution_count": 50,
   "id": "467c0576",
   "metadata": {},
   "outputs": [
    {
     "name": "stdout",
     "output_type": "stream",
     "text": [
      "12\n",
      "13\n",
      "14\n",
      "15\n"
     ]
    }
   ],
   "source": [
    "# the range() function can be called with multiple arguments separated by a comma.\n",
    "# This lets you change the integer passed to range() to \n",
    "# follow any sequence of integers, including starting at a number other than zero.\n",
    "\n",
    "for i in range(12, 16): # 1st argument is where the for loop’s variable starts, 2nd argument will be up to, but not including, the number to stop at.\n",
    "    print(i) # i is just an arbitrary variable (this could be anything)"
   ]
  },
  {
   "cell_type": "code",
   "execution_count": 51,
   "id": "04e49dd2",
   "metadata": {},
   "outputs": [
    {
     "name": "stdout",
     "output_type": "stream",
     "text": [
      "0\n",
      "2\n",
      "4\n",
      "6\n",
      "8\n"
     ]
    }
   ],
   "source": [
    "# The range() function can also be called with three arguments. The first two arguments will be the start \n",
    "# and stop values, and the third will be the step argument. The step is the amount that the variable is \n",
    "# increased by after each iteration.\n",
    "\n",
    "for i in range(0, 10, 2):\n",
    "    print(i)"
   ]
  },
  {
   "cell_type": "code",
   "execution_count": 52,
   "id": "a6ccf71d",
   "metadata": {},
   "outputs": [
    {
     "name": "stdout",
     "output_type": "stream",
     "text": [
      "5\n",
      "4\n",
      "3\n",
      "2\n",
      "1\n",
      "0\n"
     ]
    }
   ],
   "source": [
    "# you can even use a negative number for the step argument to make the for loop count down instead of up.\n",
    "\n",
    "for i in range(5, -1, -1):\n",
    "    print(i)"
   ]
  },
  {
   "cell_type": "code",
   "execution_count": 56,
   "id": "f2537a6f",
   "metadata": {},
   "outputs": [
    {
     "name": "stdout",
     "output_type": "stream",
     "text": [
      "168\n",
      "146\n",
      "46\n",
      "69\n",
      "34\n"
     ]
    }
   ],
   "source": [
    "# Importing Modules\n",
    "\n",
    "# Before you can use the functions in a module, you must import the module with an import statement. \n",
    "# Once you import a module, you can use all the cool functions of that module. Let’s give it a try \n",
    "# with the random module, which will give us access to the random.randint() function.\n",
    "\n",
    "import random\n",
    "for i in range(5):\n",
    "    print(random.randint(1, 199))"
   ]
  },
  {
   "cell_type": "code",
   "execution_count": null,
   "id": "4560e523",
   "metadata": {},
   "outputs": [],
   "source": [
    "# You can import multiple modules at the same time eg.\n",
    "\n",
    "# import random, sys, os, math"
   ]
  },
  {
   "cell_type": "code",
   "execution_count": 58,
   "id": "aa2d1162",
   "metadata": {},
   "outputs": [
    {
     "name": "stdout",
     "output_type": "stream",
     "text": [
      "Type exit to exit.\n",
      "exit\n"
     ]
    },
    {
     "ename": "SystemExit",
     "evalue": "",
     "output_type": "error",
     "traceback": [
      "An exception has occurred, use %tb to see the full traceback.\n",
      "\u001b[0;31mSystemExit\u001b[0m\n"
     ]
    }
   ],
   "source": [
    "# Ending a Program Early with the sys.exit() Function\n",
    "#\n",
    "# The last flow control concept to cover is how to terminate the program. Programs always terminate if the \n",
    "# program execution reaches the bottom of the instructions. \n",
    "\n",
    "import sys\n",
    "\n",
    "while True:\n",
    "    print('Type exit to exit.')\n",
    "    response = input()\n",
    "    if response == 'exit':\n",
    "        sys.exit()\n",
    "    print('You typed ' + response + '.')"
   ]
  },
  {
   "cell_type": "code",
   "execution_count": 60,
   "id": "537540f1",
   "metadata": {},
   "outputs": [
    {
     "name": "stdout",
     "output_type": "stream",
     "text": [
      "I am thinking of a number between 1 and 20.\n",
      "Take a guess.\n",
      "7\n",
      "Your guess is too high.\n",
      "Take a guess.\n",
      "6\n",
      "Your guess is too high.\n",
      "Take a guess.\n",
      "5\n",
      "Your guess is too high.\n",
      "Take a guess.\n",
      "4\n",
      "Your guess is too high.\n",
      "Take a guess.\n",
      "3\n",
      "Your guess is too high.\n",
      "Take a guess.\n",
      "2\n",
      "Your guess is too high.\n",
      "Nope. The number I was thinking of was 1\n"
     ]
    }
   ],
   "source": [
    "# This is a guess the number game.\n",
    "\n",
    "import random\n",
    "\n",
    "secretNumber = random.randint(1, 20) # random integer between 1 - 20. The return value, a random integer\n",
    "                                     # between 1 and 20, is stored in the variable secretNumber\n",
    "print('I am thinking of a number between 1 and 20.')\n",
    "\n",
    "# Ask the player to guess 6 times.\n",
    "\n",
    "for guessesTaken in range(1, 7): # The code that lets the player enter a guess and checks that guess is in a \n",
    "                                 # for loop that will loop at most six times.\n",
    "    print('Take a guess.')\n",
    "    guess = int(input()) # Since input() returns a string, its return value is passed straight into int(), \n",
    "                         # which translates the string into an integer value. This gets stored in a variable named guess.\n",
    "\n",
    "    if guess < secretNumber:\n",
    "        print('Your guess is too low.') # These few lines of code check to see whether the guess is less than \n",
    "    elif guess > secretNumber:          # or greater than the secret number. In either case, a hint is printed to the screen.\n",
    "        print('Your guess is too high.')\n",
    "    else:\n",
    "        break    # This condition is the correct guess!\n",
    "\n",
    "if guess == secretNumber:\n",
    "    print('Good job! You guessed my number in ' + str(guessesTaken) + 'guesses!')\n",
    "else:\n",
    "    print('Nope. The number I was thinking of was ' + str(secretNumber))"
   ]
  },
  {
   "cell_type": "code",
   "execution_count": 62,
   "id": "30a2ed80",
   "metadata": {},
   "outputs": [
    {
     "name": "stdout",
     "output_type": "stream",
     "text": [
      "ROCK, PAPER, SCISSORS\n",
      "0 Wins, 0 Losses, 0 Ties\n",
      "Enter your move: (r)ock (p)aper (s)cissors or (q)uit\n",
      "r\n",
      "ROCK versus...\n",
      "ROCK\n",
      "It is a tie!\n",
      "0 Wins, 0 Losses, 1 Ties\n",
      "Enter your move: (r)ock (p)aper (s)cissors or (q)uit\n",
      "r\n",
      "ROCK versus...\n",
      "ROCK\n",
      "It is a tie!\n",
      "0 Wins, 0 Losses, 2 Ties\n",
      "Enter your move: (r)ock (p)aper (s)cissors or (q)uit\n",
      "p\n",
      "PAPER versus...\n",
      "ROCK\n",
      "You win!\n",
      "1 Wins, 0 Losses, 2 Ties\n",
      "Enter your move: (r)ock (p)aper (s)cissors or (q)uit\n",
      "q\n"
     ]
    },
    {
     "ename": "SystemExit",
     "evalue": "",
     "output_type": "error",
     "traceback": [
      "An exception has occurred, use %tb to see the full traceback.\n",
      "\u001b[0;31mSystemExit\u001b[0m\n"
     ]
    },
    {
     "name": "stderr",
     "output_type": "stream",
     "text": [
      "/Users/davidrichardson/opt/anaconda3/lib/python3.9/site-packages/IPython/core/interactiveshell.py:3452: UserWarning: To exit: use 'exit', 'quit', or Ctrl-D.\n",
      "  warn(\"To exit: use 'exit', 'quit', or Ctrl-D.\", stacklevel=1)\n"
     ]
    }
   ],
   "source": [
    "# Another Short Program: Rock, Paper, Scissors\n",
    "\n",
    "import random, sys\n",
    "\n",
    "print('ROCK, PAPER, SCISSORS')\n",
    "\n",
    "# These variables keep track of the number of wins, losses, and ties.\n",
    "wins = 0\n",
    "losses = 0\n",
    "ties = 0\n",
    "\n",
    "while True: # The main game loop.\n",
    "    print('%s Wins, %s Losses, %s Ties' % (wins, losses, ties))\n",
    "    while True: # The player input loop - A single game of rock, paper, scissors is played on each iteration through this loop\n",
    "        print('Enter your move: (r)ock (p)aper (s)cissors or (q)uit') # asks for input from the player,\n",
    "        playerMove = input() # and keeps looping until the player has entered an r, p, s, or q for their move\n",
    "        if playerMove == 'q':\n",
    "            sys.exit() # Quit the program.\n",
    "        if playerMove == 'r' or playerMove == 'p' or playerMove == 's':\n",
    "            break # Break out of the player input loop - and back to start of the loop\n",
    "        print('Type one of r, p, s, or q.')\n",
    "\n",
    "    # Display what the player chose:\n",
    "    if playerMove == 'r':\n",
    "        print('ROCK versus...')\n",
    "    elif playerMove == 'p':\n",
    "        print('PAPER versus...')\n",
    "    elif playerMove == 's':\n",
    "        print('SCISSORS versus...')\n",
    "\n",
    "    # Display what the computer chose:\n",
    "    randomNumber = random.randint(1, 3)\n",
    "    if randomNumber == 1:\n",
    "        computerMove = 'r'\n",
    "        print('ROCK')\n",
    "    elif randomNumber == 2:\n",
    "        computerMove = 'p'\n",
    "        print('PAPER')\n",
    "    elif randomNumber == 3:\n",
    "        computerMove = 's'\n",
    "        print('SCISSORS')\n",
    "\n",
    "    # Display and record the win/loss/tie:\n",
    "    if playerMove == computerMove:\n",
    "        print('It is a tie!') # \n",
    "        ties = ties + 1\n",
    "    elif playerMove == 'r' and computerMove == 's':\n",
    "        print('You win!') # Finally, the program compares the strings in playerMove and computerMove, and displays the results on the screen\n",
    "        wins = wins + 1   # It also increments the wins, losses, or ties variable appropriately.\n",
    "    elif playerMove == 'p' and computerMove == 'r':\n",
    "        print('You win!')\n",
    "        wins = wins + 1\n",
    "    elif playerMove == 's' and computerMove == 'p':\n",
    "        print('You win!')\n",
    "        wins = wins + 1\n",
    "    elif playerMove == 'r' and computerMove == 'p':\n",
    "        print('You lose!')\n",
    "        losses = losses + 1\n",
    "    elif playerMove == 'p' and computerMove == 's':\n",
    "        print('You lose!')\n",
    "        losses = losses + 1\n",
    "    elif playerMove == 's' and computerMove == 'r':\n",
    "        print('You lose!')\n",
    "        losses = losses + 1"
   ]
  },
  {
   "cell_type": "markdown",
   "id": "9cb2d1ca",
   "metadata": {},
   "source": [
    "Practice Questions\n",
    "1. What are the two values of the Boolean data type? How do you write them?\n",
    "\n",
    "True and False\n",
    "\n",
    "2. What are the three Boolean operators?\n",
    "\n",
    "and, or, not\n",
    "\n",
    "3. Write out the truth tables of each Boolean operator (that is, every possible combination of Boolean values for the operator and what they evaluate to).\n",
    "\n",
    "T and T = T\n",
    "T and F = F\n",
    "F and T = F\n",
    "F and F = F\n",
    "\n",
    "T or T = T\n",
    "T or F = T\n",
    "F or T = T\n",
    "F or F = F\n",
    "\n",
    "not T = F\n",
    "not F = T\n"
   ]
  },
  {
   "cell_type": "code",
   "execution_count": 64,
   "id": "45c9ba68",
   "metadata": {},
   "outputs": [
    {
     "data": {
      "text/plain": [
       "False"
      ]
     },
     "execution_count": 64,
     "metadata": {},
     "output_type": "execute_result"
    }
   ],
   "source": [
    "not True"
   ]
  },
  {
   "cell_type": "raw",
   "id": "45446ad6",
   "metadata": {},
   "source": [
    "4. What do the following expressions evaluate to?\n",
    "\n",
    "(5 > 4) and (3 == 5) = False\n",
    "not (5 > 4) = False\n",
    "(5 > 4) or (3 == 5) = True\n",
    "not ((5 > 4) or (3 == 5)) = False\n",
    "(True and True) and (True == False) = False\n",
    "(not False) or (not True) = True"
   ]
  },
  {
   "cell_type": "code",
   "execution_count": 65,
   "id": "e7615382",
   "metadata": {},
   "outputs": [
    {
     "data": {
      "text/plain": [
       "False"
      ]
     },
     "execution_count": 65,
     "metadata": {},
     "output_type": "execute_result"
    }
   ],
   "source": [
    "(5 > 4) and (3 == 5)"
   ]
  },
  {
   "cell_type": "code",
   "execution_count": 66,
   "id": "95a6ab02",
   "metadata": {},
   "outputs": [
    {
     "data": {
      "text/plain": [
       "False"
      ]
     },
     "execution_count": 66,
     "metadata": {},
     "output_type": "execute_result"
    }
   ],
   "source": [
    "not (5 > 4)"
   ]
  },
  {
   "cell_type": "code",
   "execution_count": 67,
   "id": "42a0c69a",
   "metadata": {},
   "outputs": [
    {
     "data": {
      "text/plain": [
       "True"
      ]
     },
     "execution_count": 67,
     "metadata": {},
     "output_type": "execute_result"
    }
   ],
   "source": [
    "(5 > 4) or (3 == 5)"
   ]
  },
  {
   "cell_type": "code",
   "execution_count": 68,
   "id": "61380383",
   "metadata": {},
   "outputs": [
    {
     "data": {
      "text/plain": [
       "False"
      ]
     },
     "execution_count": 68,
     "metadata": {},
     "output_type": "execute_result"
    }
   ],
   "source": [
    "not ((5 > 4) or (3 == 5))"
   ]
  },
  {
   "cell_type": "code",
   "execution_count": 69,
   "id": "2cf4b6d8",
   "metadata": {},
   "outputs": [
    {
     "data": {
      "text/plain": [
       "False"
      ]
     },
     "execution_count": 69,
     "metadata": {},
     "output_type": "execute_result"
    }
   ],
   "source": [
    "(True and True) and (True == False)"
   ]
  },
  {
   "cell_type": "code",
   "execution_count": 70,
   "id": "65a19107",
   "metadata": {},
   "outputs": [
    {
     "data": {
      "text/plain": [
       "True"
      ]
     },
     "execution_count": 70,
     "metadata": {},
     "output_type": "execute_result"
    }
   ],
   "source": [
    "(not False) or (not True)"
   ]
  },
  {
   "cell_type": "markdown",
   "id": "cd5dc330",
   "metadata": {},
   "source": [
    "5. What are the six comparison operators?\n",
    "\n",
    "== equal to\n",
    "!= not equal to\n",
    "< less than\n",
    "> greater than\n",
    "<= less than or equal to\n",
    ">= greater or equal to\n",
    "\n",
    "6. What is the difference between the equal to operator and the assignment operator?\n",
    "\n",
    "== is the equal to operator meaning left is the same as right\n",
    "= is the assignment operator which stores the right value inside the variable on the left side\n",
    "\n",
    "7. Explain what a condition is and where you would use one.\n",
    "\n",
    "A condition is the same thing as an expression; condition is just a more specific name in the context of flow control statements. Conditions always evaluate down to a Boolean value, True or False. A flow control statement decides what to do based on whether its condition is True or False, and almost every flow control statement uses a condition."
   ]
  },
  {
   "cell_type": "code",
   "execution_count": 76,
   "id": "8b5f2837",
   "metadata": {},
   "outputs": [],
   "source": [
    "# 8. Identify the three blocks in this code:\n",
    "\n",
    "spam = 6\n",
    "if spam == 10:        # block 1\n",
    "    print('eggs')\n",
    "    if spam > 5:      # block 2\n",
    "        print('bacon')\n",
    "    else:             # block 3\n",
    "        print('ham')\n",
    "    print('spam')\n",
    "    print('spam') # always prints spam if this is here ?"
   ]
  },
  {
   "cell_type": "code",
   "execution_count": 81,
   "id": "fd9399e4",
   "metadata": {},
   "outputs": [],
   "source": [
    "# 9. Write code that prints Hello if 1 is stored in spam, prints Howdy if 2 is stored in spam, \n",
    "# and prints Greetings! if anything else is stored in spam.\n",
    "\n",
    "spam = 3\n",
    "if spam == 1:\n",
    "    if spam == 2:\n",
    "        print('Howdy')\n",
    "    else:\n",
    "        print('Greetings!')\n",
    "    print('Hello')"
   ]
  },
  {
   "cell_type": "markdown",
   "id": "1ed94557",
   "metadata": {},
   "source": [
    "10. What keys can you press if your program is stuck in an infinite loop?\n",
    "\n",
    "CTRL+C but on Juptyter it's i twice (i, i)\n",
    "\n",
    "11. What is the difference between break and continue?\n",
    "\n",
    "Break exits the whle loop's clause early\n",
    "Continue ends the current iteration in a for loop (or a while loop), and continues to the next iteration.\n",
    "\n",
    "12. What is the difference between range(10), range(0, 10), and range(0, 10, 1) in a for loop?\n",
    "\n",
    "They are all the same. The first one is just last range value (and automatically starts at 0)\n",
    "Second one states the starting point is zero and end point is 10\n",
    "Third one says the same thing and also states the increment is 1 each time (which is also the default)\n",
    "\n",
    "14. If you had a function named bacon() inside a module named spam, how would you call it after importing spam?\n",
    "\n",
    "breakfast?"
   ]
  },
  {
   "cell_type": "code",
   "execution_count": 83,
   "id": "182538d2",
   "metadata": {},
   "outputs": [
    {
     "name": "stdout",
     "output_type": "stream",
     "text": [
      "1\n",
      "2\n",
      "3\n",
      "4\n",
      "5\n",
      "6\n",
      "7\n",
      "8\n",
      "9\n",
      "10\n"
     ]
    }
   ],
   "source": [
    "# 13a. Write a short program that prints the numbers 1 to 10 using a for loop. \n",
    "\n",
    "for i in range(10):\n",
    "    print(i+1)"
   ]
  },
  {
   "cell_type": "code",
   "execution_count": 85,
   "id": "c8a883fc",
   "metadata": {},
   "outputs": [
    {
     "name": "stdout",
     "output_type": "stream",
     "text": [
      "1\n",
      "2\n",
      "3\n",
      "4\n",
      "5\n",
      "6\n",
      "7\n",
      "8\n",
      "9\n",
      "10\n"
     ]
    }
   ],
   "source": [
    "# 13b. Then write an equivalent program that prints the numbers 1 to 10 using a while loop.\n",
    "\n",
    "num = 1\n",
    "while num < 11:\n",
    "    print(num)\n",
    "    num = num + 1"
   ]
  },
  {
   "cell_type": "code",
   "execution_count": 86,
   "id": "57e9a429",
   "metadata": {},
   "outputs": [
    {
     "data": {
      "text/plain": [
       "35"
      ]
     },
     "execution_count": 86,
     "metadata": {},
     "output_type": "execute_result"
    }
   ],
   "source": [
    "round(34.7)"
   ]
  },
  {
   "cell_type": "code",
   "execution_count": 93,
   "id": "1b2c5100",
   "metadata": {},
   "outputs": [
    {
     "data": {
      "text/plain": [
       "8885.6223"
      ]
     },
     "execution_count": 93,
     "metadata": {},
     "output_type": "execute_result"
    }
   ],
   "source": [
    "abs(3.3777 - 8889)"
   ]
  },
  {
   "cell_type": "code",
   "execution_count": null,
   "id": "084fd1d2",
   "metadata": {},
   "outputs": [],
   "source": []
  }
 ],
 "metadata": {
  "kernelspec": {
   "display_name": "Python 3 (ipykernel)",
   "language": "python",
   "name": "python3"
  },
  "language_info": {
   "codemirror_mode": {
    "name": "ipython",
    "version": 3
   },
   "file_extension": ".py",
   "mimetype": "text/x-python",
   "name": "python",
   "nbconvert_exporter": "python",
   "pygments_lexer": "ipython3",
   "version": "3.9.7"
  }
 },
 "nbformat": 4,
 "nbformat_minor": 5
}
